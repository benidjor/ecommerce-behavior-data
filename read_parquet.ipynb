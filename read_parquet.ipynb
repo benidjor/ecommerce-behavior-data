{
 "cells": [
  {
   "cell_type": "markdown",
   "metadata": {},
   "source": [
    "# Spark를 활용한 Parquet 파일 살펴보기"
   ]
  },
  {
   "cell_type": "markdown",
   "metadata": {},
   "source": [
    "## 1. Parquet 파일 불러오기"
   ]
  },
  {
   "cell_type": "code",
   "execution_count": 1,
   "metadata": {},
   "outputs": [],
   "source": [
    "import numpy as np\n",
    "import pandas as pd\n",
    "import os\n",
    "from tqdm import tqdm\n",
    "\n",
    "import pyarrow as pa\n",
    "import pyarrow.parquet as pq\n",
    "\n",
    "from pyspark.sql import SparkSession\n",
    "from pyspark.sql.dataframe import DataFrame as SparkDataFrame\n",
    "from pyspark.sql import functions as F\n",
    "from pyspark.sql.window import Window\n",
    "\n",
    "import warnings\n",
    "warnings.filterwarnings(action='ignore')\n",
    "pd.set_option(\"display.max_columns\", None)"
   ]
  },
  {
   "cell_type": "code",
   "execution_count": 2,
   "metadata": {},
   "outputs": [],
   "source": [
    "new_column_order = [\n",
    "    \"user_id\", \"user_session\", \"category_id\", \"event_time\", \"event_time_ymd\", \"event_time_hms\", \"event_time_month\", \"event_time_day\", \"event_time_hour\", \"event_time_day_name\", \"event_type\", \"product_id\", \"category_code\", \"category_lv_1\", \"category_lv_2\", \"category_lv_3\",  \"brand\", \"price\"\n",
    "]\n",
    "\n",
    "aa = ['category_id', 'product_id', 'event_time', 'event_type', 'category_code', 'brand', 'price', 'user_id', 'user_session', 'event_time_ymd', 'event_time_hms', 'source_file', 'category_lv_1', 'category_lv_2', 'category_lv_3', 'event_time_month', 'event_time_day', 'event_time_hour', 'event_time_day_name']"
   ]
  },
  {
   "cell_type": "code",
   "execution_count": 6,
   "metadata": {},
   "outputs": [
    {
     "data": {
      "text/plain": [
       "18"
      ]
     },
     "execution_count": 6,
     "metadata": {},
     "output_type": "execute_result"
    }
   ],
   "source": [
    "len(new_column_order)"
   ]
  },
  {
   "cell_type": "code",
   "execution_count": 7,
   "metadata": {},
   "outputs": [
    {
     "data": {
      "text/plain": [
       "19"
      ]
     },
     "execution_count": 7,
     "metadata": {},
     "output_type": "execute_result"
    }
   ],
   "source": [
    "len(aa)"
   ]
  },
  {
   "cell_type": "code",
   "execution_count": 2,
   "metadata": {},
   "outputs": [],
   "source": [
    "# SparkSession 생성\n",
    "spark = SparkSession.builder \\\n",
    "    .appName(\"ParquetReader\") \\\n",
    "    .getOrCreate()"
   ]
  },
  {
   "cell_type": "code",
   "execution_count": 3,
   "metadata": {},
   "outputs": [
    {
     "name": "stdout",
     "output_type": "stream",
     "text": [
      "Current TimeZone: UTC\n"
     ]
    }
   ],
   "source": [
    "spark.conf.set(\"spark.sql.session.timeZone\", \"UTC\")\n",
    "print(\"Current TimeZone:\", spark.conf.get(\"spark.sql.session.timeZone\"))"
   ]
  },
  {
   "cell_type": "code",
   "execution_count": 18,
   "metadata": {},
   "outputs": [],
   "source": [
    "par_df = spark.read.parquet(\"C:/Users/aryij/Downloads/191001\")\n",
    "par_08_df = spark.read.parquet(\"C:/Users/aryij/Downloads/191008\")"
   ]
  },
  {
   "cell_type": "code",
   "execution_count": 10,
   "metadata": {},
   "outputs": [],
   "source": [
    "time_df = spark.read.parquet(\"C:/Users/aryij/Downloads/time_dim\")\n",
    "fact_df = spark.read.parquet(\"C:/Users/aryij/Downloads/fact_df\")"
   ]
  },
  {
   "cell_type": "code",
   "execution_count": 46,
   "metadata": {},
   "outputs": [
    {
     "name": "stdout",
     "output_type": "stream",
     "text": [
      "+---------+------------------------------------+-------------------+-------------------+--------------+--------------+----------------+--------------+---------------+-------------------+----------+----------+---------------------------+-------------+-------------+-------------+-----------+-----+\n",
      "|user_id  |user_session                        |category_id        |event_time         |event_time_ymd|event_time_hms|event_time_month|event_time_day|event_time_hour|event_time_day_name|event_type|product_id|category_code              |category_lv_1|category_lv_2|category_lv_3|brand      |price|\n",
      "+---------+------------------------------------+-------------------+-------------------+--------------+--------------+----------------+--------------+---------------+-------------------+----------+----------+---------------------------+-------------+-------------+-------------+-----------+-----+\n",
      "|516348315|6e2193d0-fcb5-44fb-8713-fe9f1c618a16|2053013561847841545|2019-10-02 14:26:48|2019-10-02    |14:26:48      |10              |02            |14             |Wed                |view      |23700090  |furniture.bedroom.blanket  |furniture    |bedroom      |blanket      |arua       |61.01|\n",
      "|542457608|9a9fdd60-02a6-4b83-a1cc-0d07df1be21e|2053013555631882655|2019-10-02 14:26:48|2019-10-02    |14:26:48      |10              |02            |14             |Wed                |view      |1005008   |electronics.smartphone     |electronics  |smartphone   |none         |xiaomi     |99.75|\n",
      "|513077305|59f64eb8-57ad-417e-aca8-d0169dde1912|2053013554658804075|2019-10-02 14:26:49|2019-10-02    |14:26:49      |10              |02            |14             |Wed                |view      |4801033   |electronics.audio.headphone|electronics  |audio        |headphone    |plantronics|12.69|\n",
      "+---------+------------------------------------+-------------------+-------------------+--------------+--------------+----------------+--------------+---------------+-------------------+----------+----------+---------------------------+-------------+-------------+-------------+-----------+-----+\n",
      "only showing top 3 rows\n",
      "\n"
     ]
    }
   ],
   "source": [
    "par_df.show(3, truncate=False)"
   ]
  },
  {
   "cell_type": "code",
   "execution_count": 13,
   "metadata": {},
   "outputs": [
    {
     "name": "stdout",
     "output_type": "stream",
     "text": [
      "+-------+-------------------+--------------+--------------+----------------+--------------+---------------+-------------------+\n",
      "|time_id|event_time         |event_time_ymd|event_time_hms|event_time_month|event_time_day|event_time_hour|event_time_day_name|\n",
      "+-------+-------------------+--------------+--------------+----------------+--------------+---------------+-------------------+\n",
      "|0      |2019-10-02 14:36:09|2019-10-02    |14:36:09      |10              |02            |14             |Wed                |\n",
      "|1      |2019-10-02 14:36:30|2019-10-02    |14:36:30      |10              |02            |14             |Wed                |\n",
      "|2      |2019-10-02 14:38:47|2019-10-02    |14:38:47      |10              |02            |14             |Wed                |\n",
      "+-------+-------------------+--------------+--------------+----------------+--------------+---------------+-------------------+\n",
      "only showing top 3 rows\n",
      "\n"
     ]
    }
   ],
   "source": [
    "time_df.show(3, truncate=False)"
   ]
  },
  {
   "cell_type": "code",
   "execution_count": 14,
   "metadata": {},
   "outputs": [
    {
     "name": "stdout",
     "output_type": "stream",
     "text": [
      "+--------+----------+-------------------+----------+---------+----------+\n",
      "|event_id|time_id   |category_id        |product_id|user_id  |event_type|\n",
      "+--------+----------+-------------------+----------+---------+----------+\n",
      "|0       |83461     |2053013561847841545|23700090  |516348315|view      |\n",
      "|1       |83461     |2053013555631882655|1005008   |542457608|view      |\n",
      "|2       |8589979820|2053013554658804075|4801033   |513077305|view      |\n",
      "+--------+----------+-------------------+----------+---------+----------+\n",
      "only showing top 3 rows\n",
      "\n"
     ]
    }
   ],
   "source": [
    "fact_df.show(3, truncate=False)"
   ]
  },
  {
   "cell_type": "code",
   "execution_count": 21,
   "metadata": {},
   "outputs": [
    {
     "name": "stdout",
     "output_type": "stream",
     "text": [
      "+-------------------+-----+\n",
      "|         event_time|count|\n",
      "+-------------------+-----+\n",
      "|2019-10-05 16:22:18|  100|\n",
      "|2019-10-05 16:25:48|   98|\n",
      "|2019-10-04 04:21:29|   90|\n",
      "|2019-10-05 16:26:23|   76|\n",
      "|2019-10-04 12:15:19|   75|\n",
      "|2019-10-01 08:42:43|   75|\n",
      "|2019-10-04 12:15:36|   71|\n",
      "|2019-10-05 16:22:19|   71|\n",
      "|2019-10-03 12:31:33|   70|\n",
      "|2019-10-01 11:41:32|   69|\n",
      "|2019-10-02 10:06:36|   69|\n",
      "|2019-10-04 13:51:44|   68|\n",
      "|2019-10-01 07:12:28|   68|\n",
      "|2019-10-04 04:20:04|   67|\n",
      "|2019-10-05 16:25:49|   67|\n",
      "|2019-10-04 05:02:50|   66|\n",
      "|2019-10-05 16:25:36|   66|\n",
      "|2019-10-04 04:20:16|   66|\n",
      "|2019-10-06 15:47:27|   66|\n",
      "|2019-10-06 15:00:21|   64|\n",
      "+-------------------+-----+\n",
      "only showing top 20 rows\n",
      "\n"
     ]
    }
   ],
   "source": [
    "\n",
    "# 예: 'column1', 'column2' 두 컬럼 기준으로 중복 확인\n",
    "duplicate_rows = (\n",
    "    par_df.groupBy(\"event_time\")\n",
    "           .agg(F.count(\"*\").alias(\"count\"))\n",
    "           .filter(\"count > 1\")\n",
    "           .orderBy(\"count\", ascending=False)\n",
    ")\n",
    "\n",
    "duplicate_rows.show()\n"
   ]
  },
  {
   "cell_type": "code",
   "execution_count": null,
   "metadata": {},
   "outputs": [
    {
     "name": "stdout",
     "output_type": "stream",
     "text": [
      "+----------+-----+\n",
      "|   time_id|count|\n",
      "+----------+-----+\n",
      "|    192337|  100|\n",
      "|8590104740|   98|\n",
      "|8590139837|   90|\n",
      "|    184894|   76|\n",
      "|8590086535|   75|\n",
      "|    180030|   75|\n",
      "|    129688|   71|\n",
      "|    148454|   71|\n",
      "|8590196643|   70|\n",
      "|8590069208|   69|\n",
      "|     23980|   69|\n",
      "|    176448|   68|\n",
      "|    159660|   68|\n",
      "|    130232|   67|\n",
      "|8590141759|   67|\n",
      "|    246915|   66|\n",
      "|8590144677|   66|\n",
      "|8590195955|   66|\n",
      "|8590075557|   66|\n",
      "|8590227695|   64|\n",
      "+----------+-----+\n",
      "only showing top 20 rows\n",
      "\n"
     ]
    }
   ],
   "source": [
    "\n",
    "# 예: 'column1', 'column2' 두 컬럼 기준으로 중복 확인\n",
    "duplicate_rows = (\n",
    "    fact_df.groupBy(\"time_id\")\n",
    "           .agg(F.count(\"*\").alias(\"count\"))\n",
    "           .filter(\"count > 1\")\n",
    "           .orderBy(\"count\", ascending=False)\n",
    ")\n",
    "\n",
    "duplicate_rows.show()"
   ]
  },
  {
   "cell_type": "code",
   "execution_count": 25,
   "metadata": {},
   "outputs": [
    {
     "name": "stdout",
     "output_type": "stream",
     "text": [
      "+-------+-------------------+--------------+--------------+----------------+--------------+---------------+-------------------+\n",
      "|time_id|         event_time|event_time_ymd|event_time_hms|event_time_month|event_time_day|event_time_hour|event_time_day_name|\n",
      "+-------+-------------------+--------------+--------------+----------------+--------------+---------------+-------------------+\n",
      "| 192337|2019-10-05 16:22:18|    2019-10-05|      16:22:18|              10|            05|             16|                Sat|\n",
      "+-------+-------------------+--------------+--------------+----------------+--------------+---------------+-------------------+\n",
      "\n"
     ]
    }
   ],
   "source": [
    "time_df.filter(time_df.time_id == 192337).show()"
   ]
  },
  {
   "cell_type": "code",
   "execution_count": 48,
   "metadata": {},
   "outputs": [
    {
     "name": "stdout",
     "output_type": "stream",
     "text": [
      "+---------+--------------------+-------------------+-------------------+--------------+--------------+----------------+--------------+---------------+-------------------+----------+----------+--------------------+-------------+-------------+-------------+--------+-------+\n",
      "|  user_id|        user_session|        category_id|         event_time|event_time_ymd|event_time_hms|event_time_month|event_time_day|event_time_hour|event_time_day_name|event_type|product_id|       category_code|category_lv_1|category_lv_2|category_lv_3|   brand|  price|\n",
      "+---------+--------------------+-------------------+-------------------+--------------+--------------+----------------+--------------+---------------+-------------------+----------+----------+--------------------+-------------+-------------+-------------+--------+-------+\n",
      "|541312140|72d76fde-8bb3-4e0...|2103807459595387724|2019-10-01 00:00:00|    2019-10-01|      00:00:00|              10|            01|             00|                Tue|      view|  44600062|             unknown|      unknown|         none|         none|shiseido|  35.79|\n",
      "|554748717|9333dfbd-b87a-470...|2053013552326770905|2019-10-01 00:00:00|    2019-10-01|      00:00:00|              10|            01|             00|                Tue|      view|   3900821|appliances.enviro...|   appliances|  environment| water_heater|    aqua|   33.2|\n",
      "|519107250|566511c2-e2e3-422...|2053013559792632471|2019-10-01 00:00:01|    2019-10-01|      00:00:01|              10|            01|             00|                Tue|      view|  17200506|furniture.living_...|    furniture|  living_room|         sofa|    rals|  543.1|\n",
      "|550050854|7c90fc70-0e80-459...|2053013558920217191|2019-10-01 00:00:01|    2019-10-01|      00:00:01|              10|            01|             00|                Tue|      view|   1307067|  computers.notebook|    computers|     notebook|         none|  lenovo| 251.74|\n",
      "|535871217|c6bd7419-2748-4c5...|2053013555631882655|2019-10-01 00:00:04|    2019-10-01|      00:00:04|              10|            01|             00|                Tue|      view|   1004237|electronics.smart...|  electronics|   smartphone|         none|   apple|1081.98|\n",
      "|512742880|0d0d91c2-c9c2-4e8...|2053013561092866779|2019-10-01 00:00:05|    2019-10-01|      00:00:05|              10|            01|             00|                Tue|      view|   1480613|   computers.desktop|    computers|      desktop|         none|  pulser| 908.62|\n",
      "|555447699|4fe811e9-91de-46d...|2053013553853497655|2019-10-01 00:00:08|    2019-10-01|      00:00:08|              10|            01|             00|                Tue|      view|  17300353|             unknown|      unknown|         none|         none|   creed| 380.96|\n",
      "|550978835|6280d577-25c8-414...|2053013558031024687|2019-10-01 00:00:08|    2019-10-01|      00:00:08|              10|            01|             00|                Tue|      view|  31500053|             unknown|      unknown|         none|         none|luminarc|  41.16|\n",
      "|520571932|ac1cd4e5-a3ce-422...|2053013565480109009|2019-10-01 00:00:10|    2019-10-01|      00:00:10|              10|            01|             00|                Tue|      view|  28719074|  apparel.shoes.keds|      apparel|        shoes|         keds|   baden| 102.71|\n",
      "|537918940|406c46ed-90a4-478...|2053013555631882655|2019-10-01 00:00:11|    2019-10-01|      00:00:11|              10|            01|             00|                Tue|      view|   1004545|electronics.smart...|  electronics|   smartphone|         none|  huawei| 566.01|\n",
      "|555158050|b5bdd0b3-4ca2-4c5...|2053013554776244595|2019-10-01 00:00:11|    2019-10-01|      00:00:11|              10|            01|             00|                Tue|      view|   2900536|appliances.kitche...|   appliances|      kitchen|    microwave|elenberg|  51.46|\n",
      "|530282093|50a293fb-5940-41b...|2053013555631882655|2019-10-01 00:00:11|    2019-10-01|      00:00:11|              10|            01|             00|                Tue|      view|   1005011|electronics.smart...|  electronics|   smartphone|         none| samsung| 900.64|\n",
      "|555444559|98b88fa0-d8fa-4b9...|2053013552326770905|2019-10-01 00:00:13|    2019-10-01|      00:00:13|              10|            01|             00|                Tue|      view|   3900746|appliances.enviro...|   appliances|  environment| water_heater|   haier| 102.38|\n",
      "|541312140|72d76fde-8bb3-4e0...|2103807459595387724|2019-10-01 00:00:15|    2019-10-01|      00:00:15|              10|            01|             00|                Tue|      view|  44600062|             unknown|      unknown|         none|         none|shiseido|  35.79|\n",
      "|555446365|7f0062d8-ead0-4e0...|2053013557099889147|2019-10-01 00:00:16|    2019-10-01|      00:00:16|              10|            01|             00|                Tue|      view|  13500240|furniture.bedroom...|    furniture|      bedroom|          bed|     brw|  93.18|\n",
      "|513642368|17566c27-0a8f-450...|2053013561638126333|2019-10-01 00:00:17|    2019-10-01|      00:00:17|              10|            01|             00|                Tue|      view|  23100006|             unknown|      unknown|         none|         none| unknown| 357.79|\n",
      "|537192226|e3151795-c355-4ef...|2053013554415534427|2019-10-01 00:00:18|    2019-10-01|      00:00:18|              10|            01|             00|                Tue|      view|   1801995|electronics.video.tv|  electronics|        video|           tv|   haier| 193.03|\n",
      "|519528062|901b9e3c-3f8f-414...|2053013555069845885|2019-10-01 00:00:18|    2019-10-01|      00:00:18|              10|            01|             00|                Tue|      view|  10900029|appliances.kitche...|   appliances|      kitchen|        mixer|   bosch|  58.95|\n",
      "|550050854|7c90fc70-0e80-459...|2053013558920217191|2019-10-01 00:00:19|    2019-10-01|      00:00:19|              10|            01|             00|                Tue|      view|   1306631|  computers.notebook|    computers|     notebook|         none|      hp| 580.89|\n",
      "|535871217|c6bd7419-2748-4c5...|2053013555631882655|2019-10-01 00:00:19|    2019-10-01|      00:00:19|              10|            01|             00|                Tue|      view|   1005135|electronics.smart...|  electronics|   smartphone|         none|   apple|1747.79|\n",
      "+---------+--------------------+-------------------+-------------------+--------------+--------------+----------------+--------------+---------------+-------------------+----------+----------+--------------------+-------------+-------------+-------------+--------+-------+\n",
      "only showing top 20 rows\n",
      "\n"
     ]
    }
   ],
   "source": [
    "par_df.orderBy(\"event_time\").show()"
   ]
  },
  {
   "cell_type": "code",
   "execution_count": 49,
   "metadata": {},
   "outputs": [
    {
     "name": "stdout",
     "output_type": "stream",
     "text": [
      "root\n",
      " |-- user_id: integer (nullable = true)\n",
      " |-- user_session: string (nullable = true)\n",
      " |-- category_id: long (nullable = true)\n",
      " |-- event_time: timestamp (nullable = true)\n",
      " |-- event_time_ymd: date (nullable = true)\n",
      " |-- event_time_hms: string (nullable = true)\n",
      " |-- event_time_month: string (nullable = true)\n",
      " |-- event_time_day: string (nullable = true)\n",
      " |-- event_time_hour: string (nullable = true)\n",
      " |-- event_time_day_name: string (nullable = true)\n",
      " |-- event_type: string (nullable = true)\n",
      " |-- product_id: integer (nullable = true)\n",
      " |-- category_code: string (nullable = true)\n",
      " |-- category_lv_1: string (nullable = true)\n",
      " |-- category_lv_2: string (nullable = true)\n",
      " |-- category_lv_3: string (nullable = true)\n",
      " |-- brand: string (nullable = true)\n",
      " |-- price: double (nullable = true)\n",
      "\n"
     ]
    }
   ],
   "source": [
    "par_df.printSchema()"
   ]
  },
  {
   "cell_type": "code",
   "execution_count": 40,
   "metadata": {},
   "outputs": [
    {
     "name": "stdout",
     "output_type": "stream",
     "text": [
      "+---------+--------------------+-------------------+-------------------+--------------+--------------+----------------+--------------+---------------+-------------------+----------+----------+--------------------+-------------+-------------+-------------+-----+-----+\n",
      "|  user_id|        user_session|        category_id|         event_time|event_time_ymd|event_time_hms|event_time_month|event_time_day|event_time_hour|event_time_day_name|event_type|product_id|       category_code|category_lv_1|category_lv_2|category_lv_3|brand|price|\n",
      "+---------+--------------------+-------------------+-------------------+--------------+--------------+----------------+--------------+---------------+-------------------+----------+----------+--------------------+-------------+-------------+-------------+-----+-----+\n",
      "|554748717|9333dfbd-b87a-470...|2053013552326770905|2019-10-01 09:00:00|    2019-10-01|      00:00:00|              10|            01|             00|                Tue|      view|   3900821|appliances.enviro...|   appliances|  environment| water_heater| aqua| 33.2|\n",
      "|512448158|52a857d6-b4db-42c...|2053013552326770905|2019-10-01 12:12:34|    2019-10-01|      03:12:34|              10|            01|             03|                Tue|      view|   3900821|appliances.enviro...|   appliances|  environment| water_heater| aqua| 33.2|\n",
      "|512448158|52a857d6-b4db-42c...|2053013552326770905|2019-10-01 12:13:12|    2019-10-01|      03:13:12|              10|            01|             03|                Tue|  purchase|   3900821|appliances.enviro...|   appliances|  environment| water_heater| aqua| 33.2|\n",
      "|541410551|50b74e0f-83a4-411...|2053013552326770905|2019-10-01 12:24:58|    2019-10-01|      03:24:58|              10|            01|             03|                Tue|      view|   3900821|appliances.enviro...|   appliances|  environment| water_heater| aqua| 33.2|\n",
      "|541410551|50b74e0f-83a4-411...|2053013552326770905|2019-10-01 12:27:28|    2019-10-01|      03:27:28|              10|            01|             03|                Tue|      view|   3900821|appliances.enviro...|   appliances|  environment| water_heater| aqua| 33.2|\n",
      "|541410551|50b74e0f-83a4-411...|2053013552326770905|2019-10-01 12:27:48|    2019-10-01|      03:27:48|              10|            01|             03|                Tue|      view|   3900821|appliances.enviro...|   appliances|  environment| water_heater| aqua| 33.2|\n",
      "|531153447|80ef3e67-93fc-435...|2053013552326770905|2019-10-01 12:30:35|    2019-10-01|      03:30:35|              10|            01|             03|                Tue|      view|   3900821|appliances.enviro...|   appliances|  environment| water_heater| aqua| 33.2|\n",
      "|531153447|80ef3e67-93fc-435...|2053013552326770905|2019-10-01 12:30:52|    2019-10-01|      03:30:52|              10|            01|             03|                Tue|      view|   3900821|appliances.enviro...|   appliances|  environment| water_heater| aqua| 33.2|\n",
      "|531153447|80ef3e67-93fc-435...|2053013552326770905|2019-10-01 12:32:16|    2019-10-01|      03:32:16|              10|            01|             03|                Tue|      view|   3900821|appliances.enviro...|   appliances|  environment| water_heater| aqua| 33.2|\n",
      "|533907925|a896f11f-8b05-497...|2053013552326770905|2019-10-01 12:32:56|    2019-10-01|      03:32:56|              10|            01|             03|                Tue|      view|   3900821|appliances.enviro...|   appliances|  environment| water_heater| aqua| 33.2|\n",
      "|543505965|c20a1e99-daa8-438...|2053013552326770905|2019-10-01 13:28:51|    2019-10-01|      04:28:51|              10|            01|             04|                Tue|      view|   3900821|appliances.enviro...|   appliances|  environment| water_heater| aqua| 33.2|\n",
      "|536714737|b96744eb-57da-434...|2053013552326770905|2019-10-01 13:43:09|    2019-10-01|      04:43:09|              10|            01|             04|                Tue|      view|   3900821|appliances.enviro...|   appliances|  environment| water_heater| aqua| 33.2|\n",
      "|536714737|b96744eb-57da-434...|2053013552326770905|2019-10-01 13:43:26|    2019-10-01|      04:43:26|              10|            01|             04|                Tue|      view|   3900821|appliances.enviro...|   appliances|  environment| water_heater| aqua| 33.2|\n",
      "|512872339|bba8c738-3f6e-479...|2053013552326770905|2019-10-01 13:51:06|    2019-10-01|      04:51:06|              10|            01|             04|                Tue|      view|   3900821|appliances.enviro...|   appliances|  environment| water_heater| aqua| 33.2|\n",
      "|515980327|cfa11b95-0725-48b...|2053013552326770905|2019-10-01 13:56:51|    2019-10-01|      04:56:51|              10|            01|             04|                Tue|      view|   3900821|appliances.enviro...|   appliances|  environment| water_heater| aqua| 33.2|\n",
      "|512872339|bba8c738-3f6e-479...|2053013552326770905|2019-10-01 14:15:20|    2019-10-01|      05:15:20|              10|            01|             05|                Tue|      view|   3900821|appliances.enviro...|   appliances|  environment| water_heater| aqua| 33.2|\n",
      "|512872339|bba8c738-3f6e-479...|2053013552326770905|2019-10-01 14:15:47|    2019-10-01|      05:15:47|              10|            01|             05|                Tue|      view|   3900821|appliances.enviro...|   appliances|  environment| water_heater| aqua| 33.2|\n",
      "|512872339|bba8c738-3f6e-479...|2053013552326770905|2019-10-01 14:15:57|    2019-10-01|      05:15:57|              10|            01|             05|                Tue|      view|   3900821|appliances.enviro...|   appliances|  environment| water_heater| aqua| 33.2|\n",
      "|542782262|c2213000-2725-445...|2053013552326770905|2019-10-01 14:16:47|    2019-10-01|      05:16:47|              10|            01|             05|                Tue|      view|   3900821|appliances.enviro...|   appliances|  environment| water_heater| aqua| 33.2|\n",
      "|542782262|c2213000-2725-445...|2053013552326770905|2019-10-01 14:17:10|    2019-10-01|      05:17:10|              10|            01|             05|                Tue|      view|   3900821|appliances.enviro...|   appliances|  environment| water_heater| aqua| 33.2|\n",
      "+---------+--------------------+-------------------+-------------------+--------------+--------------+----------------+--------------+---------------+-------------------+----------+----------+--------------------+-------------+-------------+-------------+-----+-----+\n",
      "only showing top 20 rows\n",
      "\n"
     ]
    }
   ],
   "source": [
    "par_df.filter(par_df[\"product_id\"]==3900821).orderBy(\"event_time\").show()"
   ]
  },
  {
   "cell_type": "code",
   "execution_count": 52,
   "metadata": {},
   "outputs": [
    {
     "name": "stdout",
     "output_type": "stream",
     "text": [
      "+---------+--------------------+-------------------+-------------------+--------------+--------------+----------------+--------------+---------------+-------------------+----------+----------+--------------------+-------------+-------------+-------------+--------+-------+\n",
      "|  user_id|        user_session|        category_id|         event_time|event_time_ymd|event_time_hms|event_time_month|event_time_day|event_time_hour|event_time_day_name|event_type|product_id|       category_code|category_lv_1|category_lv_2|category_lv_3|   brand|  price|\n",
      "+---------+--------------------+-------------------+-------------------+--------------+--------------+----------------+--------------+---------------+-------------------+----------+----------+--------------------+-------------+-------------+-------------+--------+-------+\n",
      "|537280720|390dfca9-0882-49b...|2053013560807654091|2019-10-08 00:00:00|    2019-10-08|      00:00:00|              10|            08|             00|                Tue|      view|   6000094|auto.accessories....|         auto|  accessories|        alarm|starline| 121.24|\n",
      "|548175652|7a0c755d-425b-4fb...|2053013555631882655|2019-10-08 00:00:00|    2019-10-08|      00:00:00|              10|            08|             00|                Tue|      view|   1004659|electronics.smart...|  electronics|   smartphone|         none| samsung| 731.04|\n",
      "|557874027|ddcb6b28-70ce-4e0...|2053013553945772349|2019-10-08 00:00:01|    2019-10-08|      00:00:01|              10|            08|             00|                Tue|      view|   5800572|electronics.audio...|  electronics|        audio|    subwoofer| pioneer|  27.03|\n",
      "|523342162|188a14b5-1401-428...|2053013553559896355|2019-10-08 00:00:01|    2019-10-08|      00:00:01|              10|            08|             00|                Tue|      view|  12711986|             unknown|      unknown|         none|         none|triangle|  37.32|\n",
      "|535953168|521339a7-ef97-4de...|2053013554189041997|2019-10-08 00:00:02|    2019-10-08|      00:00:02|              10|            08|             00|                Tue|      view|   6601051|computers.compone...|    computers|   components|       memory|kingston| 149.13|\n",
      "|553172747|2b927880-1a4f-4e5...|2053013562250494749|2019-10-08 00:00:02|    2019-10-08|      00:00:02|              10|            08|             00|                Tue|      view|  25510249|             unknown|      unknown|         none|         none|   gerat|  25.48|\n",
      "|551456693|9ac092d2-d4d9-403...|2053013553970938175|2019-10-08 00:00:02|    2019-10-08|      00:00:02|              10|            08|             00|                Tue|      view|   5701020|auto.accessories....|         auto|  accessories|       player| pioneer|  23.14|\n",
      "|557618636|f42efcd3-20c4-427...|2053013558920217191|2019-10-08 00:00:03|    2019-10-08|      00:00:03|              10|            08|             00|                Tue|      view|   1307429|  computers.notebook|    computers|     notebook|         none|    asus| 483.67|\n",
      "|557874344|3a449ac1-8320-4b4...|2053013564003713919|2019-10-08 00:00:04|    2019-10-08|      00:00:04|              10|            08|             00|                Tue|      view|   2500566|appliances.kitche...|   appliances|      kitchen|         oven|    asel|  43.73|\n",
      "|527086940|034749c7-77ab-44e...|2053013562913194819|2019-10-08 00:00:06|    2019-10-08|      00:00:06|              10|            08|             00|                Tue|      view|   5600400|             unknown|      unknown|         none|         none| philips|  43.73|\n",
      "|557874370|f5d29b25-9723-42b...|2053013555631882655|2019-10-08 00:00:06|    2019-10-08|      00:00:06|              10|            08|             00|                Tue|  purchase|   1004210|electronics.smart...|  electronics|   smartphone|         none| samsung|  88.81|\n",
      "|553172747|2b927880-1a4f-4e5...|2053013562250494749|2019-10-08 00:00:07|    2019-10-08|      00:00:07|              10|            08|             00|                Tue|      view|  25510090|             unknown|      unknown|         none|         none|   gerat|  80.05|\n",
      "|557618636|f42efcd3-20c4-427...|2053013558920217191|2019-10-08 00:00:07|    2019-10-08|      00:00:07|              10|            08|             00|                Tue|      view|   1305864|  computers.notebook|    computers|     notebook|         none|  lenovo| 499.11|\n",
      "|550334112|9a84f334-4d12-477...|2053013563584283495|2019-10-08 00:00:07|    2019-10-08|      00:00:07|              10|            08|             00|                Tue|      view|  26300032|             unknown|      unknown|         none|         none| lucente|  123.3|\n",
      "|539050258|f144c3ef-ff8f-42a...|2053013555631882655|2019-10-08 00:00:07|    2019-10-08|      00:00:07|              10|            08|             00|                Tue|      view|   1004856|electronics.smart...|  electronics|   smartphone|         none| samsung| 130.76|\n",
      "|535953168|521339a7-ef97-4de...|2053013554189041997|2019-10-08 00:00:08|    2019-10-08|      00:00:08|              10|            08|             00|                Tue|      view|   6601045|computers.compone...|    computers|   components|       memory|kingston| 101.16|\n",
      "|547705718|20b0474e-8dae-41a...|2053013558316237377|2019-10-08 00:00:08|    2019-10-08|      00:00:08|              10|            08|             00|                Tue|      view|  16800045|furniture.kitchen...|    furniture|      kitchen|        table|     bts| 185.31|\n",
      "|513671262|24a2f780-d5c9-451...|2053013555631882655|2019-10-08 00:00:09|    2019-10-08|      00:00:09|              10|            08|             00|                Tue|      view|   1004843|electronics.smart...|  electronics|   smartphone|         none|   meizu| 231.41|\n",
      "|518698290|87de04de-3962-4e4...|2059484601444729123|2019-10-08 00:00:09|    2019-10-08|      00:00:09|              10|            08|             00|                Tue|      view|  29900055|             unknown|      unknown|         none|         none|    peda|2331.85|\n",
      "|529045018|a3806158-4825-4df...|2053013556168753601|2019-10-08 00:00:10|    2019-10-08|      00:00:10|              10|            08|             00|                Tue|      view|  22700044|             unknown|      unknown|         none|         none|   total|  43.73|\n",
      "+---------+--------------------+-------------------+-------------------+--------------+--------------+----------------+--------------+---------------+-------------------+----------+----------+--------------------+-------------+-------------+-------------+--------+-------+\n",
      "only showing top 20 rows\n",
      "\n"
     ]
    }
   ],
   "source": [
    "par_08_df.orderBy(\"event_time\").show()"
   ]
  },
  {
   "cell_type": "code",
   "execution_count": null,
   "metadata": {},
   "outputs": [],
   "source": []
  },
  {
   "cell_type": "code",
   "execution_count": 6,
   "metadata": {},
   "outputs": [
    {
     "name": "stdout",
     "output_type": "stream",
     "text": [
      "+-------------------+----------+----------+-------------------+--------------------+--------+-------+---------+--------------------+--------------+--------------+-----------+\n",
      "|         event_time|event_type|product_id|        category_id|       category_code|   brand|  price|  user_id|        user_session|event_time_ymd|event_time_hms|source_file|\n",
      "+-------------------+----------+----------+-------------------+--------------------+--------+-------+---------+--------------------+--------------+--------------+-----------+\n",
      "|2019-11-17 17:43:00|      view|   2501799|2053013564003713919|appliances.kitche...|elenberg|  46.31|563237118|4368d099-6d19-47c...|    2019-11-17|      17:43:00|   2019_nov|\n",
      "|2019-11-17 17:43:00|      view|   6400335|2053013554121933129|computers.compone...|   intel| 435.28|551129779|4db2c365-ee85-443...|    2019-11-17|      17:43:00|   2019_nov|\n",
      "|2019-11-17 17:43:00|      view|   3701538|2053013565983425517|appliances.enviro...|  irobot|1878.81|539845715|bf7d95c0-69e1-40f...|    2019-11-17|      17:43:00|   2019_nov|\n",
      "|2019-11-17 17:43:00|      view|  26400266|2053013563651392361|                NULL| lucente| 119.18|572211322|8e6c63f8-7f34-48b...|    2019-11-17|      17:43:00|   2019_nov|\n",
      "|2019-11-17 17:43:00|      view|   1004659|2053013555631882655|electronics.smart...| samsung| 762.18|512965259|2981c9f9-3905-49d...|    2019-11-17|      17:43:00|   2019_nov|\n",
      "+-------------------+----------+----------+-------------------+--------------------+--------+-------+---------+--------------------+--------------+--------------+-----------+\n",
      "only showing top 5 rows\n",
      "\n"
     ]
    }
   ],
   "source": [
    "output_folder = os.path.join(\"data\", \"parquet_data\")\n",
    "\n",
    "parquet_df = spark.read.parquet(os.path.join(output_folder, \"total_merged.parquet\"))\n",
    "parquet_df.show(5)"
   ]
  },
  {
   "cell_type": "code",
   "execution_count": 36,
   "metadata": {},
   "outputs": [],
   "source": [
    "oct_df = spark.read.parquet(os.path.join(output_folder, \"2019_oct.parquet\"))"
   ]
  },
  {
   "cell_type": "code",
   "execution_count": 9,
   "metadata": {},
   "outputs": [
    {
     "name": "stdout",
     "output_type": "stream",
     "text": [
      "+----------+----------+----------+-----------+-------------+-------+-----+-------+------------+--------------+--------------+\n",
      "|event_time|event_type|product_id|category_id|category_code|  brand|price|user_id|user_session|event_time_ymd|event_time_hms|\n",
      "+----------+----------+----------+-----------+-------------+-------+-----+-------+------------+--------------+--------------+\n",
      "|         0|         0|         0|          0|     13515609|6113008|    0|      0|           2|             0|             0|\n",
      "+----------+----------+----------+-----------+-------------+-------+-----+-------+------------+--------------+--------------+\n",
      "\n"
     ]
    }
   ],
   "source": [
    "null_counts = oct_df.agg(\n",
    "    *[sum(col(c).isNull().cast(\"int\")).alias(c) for c in oct_df.columns]\n",
    ")\n",
    "null_counts.show()"
   ]
  },
  {
   "cell_type": "code",
   "execution_count": 23,
   "metadata": {},
   "outputs": [],
   "source": [
    "def impute_by_mode_value(df, group_col, target_col):\n",
    "    \"\"\"\n",
    "    특정 그룹(group_col) 내에서 target_col의 최빈값을 찾아 NULL 값을 대체하는 함수.\n",
    "\n",
    "    df: 입력 Spark DataFrame\n",
    "    group_col: 그룹화할 컬럼명 (예: category_id)\n",
    "    target_col: 최빈값을 찾고 NULL을 채울 컬럼명 (예: category_code)\n",
    "    return: NULL 값이 최빈값으로 채워진 DataFrame\n",
    "    \"\"\"\n",
    "\n",
    "    # 1️. group_col별 target_col에서 최빈값 찾기\n",
    "    value_counts = (\n",
    "        df\n",
    "        .groupBy(group_col, target_col)\n",
    "        .agg(count(\"*\").alias(\"count\"))  # count 횟수 계산\n",
    "    )\n",
    "\n",
    "    # 2️. 최빈값을 찾기 위한 Window 함수 설정\n",
    "    window_spec = Window.partitionBy(group_col).orderBy(col(\"count\").desc(), col(target_col))\n",
    "\n",
    "    most_frequent_values = (\n",
    "        value_counts\n",
    "        .withColumn(\"rank\", row_number().over(window_spec))  # 최빈값 순위 매기기\n",
    "        .filter(col(\"rank\") == 1)  # 최빈값 선택\n",
    "        .select(col(group_col), col(target_col).alias(f\"most_frequent_{target_col}\"))\n",
    "    )\n",
    "\n",
    "    # 3️. 기존 데이터와 조인 후 NULL 값 채우기\n",
    "    df = (\n",
    "        df\n",
    "        .join(most_frequent_values, on=group_col, how=\"left\")  # group_col 기준으로 병합\n",
    "        .withColumn(target_col, coalesce(col(target_col), col(f\"most_frequent_{target_col}\")))\n",
    "        .drop(f\"most_frequent_{target_col}\") \n",
    "    )\n",
    "\n",
    "    return df"
   ]
  },
  {
   "cell_type": "code",
   "execution_count": 26,
   "metadata": {},
   "outputs": [],
   "source": [
    "oct_df_2 = impute_by_mode_value(oct_df, \"product_id\", \"brand\")"
   ]
  },
  {
   "cell_type": "code",
   "execution_count": 27,
   "metadata": {},
   "outputs": [
    {
     "name": "stdout",
     "output_type": "stream",
     "text": [
      "+----------+----------+----------+-----------+-------------+-------+-----+-------+------------+--------------+--------------+\n",
      "|product_id|event_time|event_type|category_id|category_code|  brand|price|user_id|user_session|event_time_ymd|event_time_hms|\n",
      "+----------+----------+----------+-----------+-------------+-------+-----+-------+------------+--------------+--------------+\n",
      "|         0|         0|         0|          0|     13515609|6038239|    0|      0|           2|             0|             0|\n",
      "+----------+----------+----------+-----------+-------------+-------+-----+-------+------------+--------------+--------------+\n",
      "\n"
     ]
    }
   ],
   "source": [
    "\n",
    "\n",
    "# 결측치 개수 확인\n",
    "oct_df_2.select([count(when(col(c).isNull(), c)).alias(c) for c in oct_df_2.columns]).show()\n"
   ]
  },
  {
   "cell_type": "code",
   "execution_count": 28,
   "metadata": {},
   "outputs": [],
   "source": [
    "from pyspark.sql import functions as F\n",
    "from pyspark.sql.window import Window\n",
    "from pyspark.sql import DataFrame\n",
    "\n",
    "def impute_by_mode_value(df: DataFrame, group_col: str, target_col: str) -> DataFrame:\n",
    "    \"\"\"\n",
    "    특정 그룹(group_col) 내에서 target_col의 최빈값(mode)을 찾아 NULL 값을 대체하는 함수입니다.\n",
    "    이 함수는 리소스 사용 최적화를 위해 필요한 컬럼만 선택하고, 계산된 최빈값 결과를 브로드캐스트 조인으로 사용합니다.\n",
    "    \n",
    "    Parameters:\n",
    "    - df: 입력 Spark DataFrame\n",
    "    - group_col: 그룹화할 컬럼명 (예: category_id)\n",
    "    - target_col: 최빈값을 찾아 NULL을 채울 컬럼명 (예: category_code)\n",
    "    \n",
    "    return: target_col의 NULL 값이 해당 그룹의 non-null 최빈값으로 채워진 DataFrame\n",
    "    \"\"\"\n",
    "    # 1. 필요한 컬럼만 선택 (group_col, target_col)\n",
    "    df_reduced = df.select(group_col, target_col)\n",
    "    \n",
    "    # 2. non-null인 target_col만 고려하여 집계\n",
    "    non_null_df = df_reduced.filter(F.col(target_col).isNotNull())\n",
    "    \n",
    "    # 3. 그룹별로 target_col 값의 count 계산\n",
    "    value_counts = (\n",
    "        non_null_df\n",
    "        .groupBy(group_col, target_col)\n",
    "        .agg(F.count(\"*\").alias(\"count\"))\n",
    "    )\n",
    "    \n",
    "    # 4. Window 함수를 이용해 그룹별로 count 내림차순 정렬 후 최빈값 선택\n",
    "    window_spec = Window.partitionBy(group_col).orderBy(F.col(\"count\").desc(), F.col(target_col))\n",
    "    \n",
    "    mode_df = (\n",
    "        value_counts\n",
    "        .withColumn(\"rank\", F.row_number().over(window_spec))\n",
    "        .filter(F.col(\"rank\") == 1)\n",
    "        .select(group_col, F.col(target_col).alias(f\"most_frequent_{target_col}\"))\n",
    "    )\n",
    "    \n",
    "    # 5. mode_df를 브로드캐스트하여 조인 성능 향상\n",
    "    mode_df = F.broadcast(mode_df)\n",
    "    \n",
    "    # 6. 원본 데이터와 조인한 후, target_col이 NULL인 경우에만 최빈값으로 대체\n",
    "    df_imputed = (\n",
    "        df\n",
    "        .join(mode_df, on=group_col, how=\"left\")\n",
    "        .withColumn(target_col, F.coalesce(F.col(target_col), F.col(f\"most_frequent_{target_col}\")))\n",
    "        .drop(f\"most_frequent_{target_col}\")\n",
    "    )\n",
    "    \n",
    "    return df_imputed\n"
   ]
  },
  {
   "cell_type": "code",
   "execution_count": 30,
   "metadata": {},
   "outputs": [],
   "source": [
    "oct_df_3 = impute_by_mode_value(oct_df, \"product_id\", \"brand\")"
   ]
  },
  {
   "cell_type": "code",
   "execution_count": 31,
   "metadata": {},
   "outputs": [
    {
     "name": "stdout",
     "output_type": "stream",
     "text": [
      "+----------+----------+----------+-----------+-------------+-------+-----+-------+------------+--------------+--------------+\n",
      "|product_id|event_time|event_type|category_id|category_code|  brand|price|user_id|user_session|event_time_ymd|event_time_hms|\n",
      "+----------+----------+----------+-----------+-------------+-------+-----+-------+------------+--------------+--------------+\n",
      "|         0|         0|         0|          0|     13515609|5940585|    0|      0|           2|             0|             0|\n",
      "+----------+----------+----------+-----------+-------------+-------+-----+-------+------------+--------------+--------------+\n",
      "\n"
     ]
    }
   ],
   "source": [
    "\n",
    "\n",
    "# 결측치 개수 확인\n",
    "oct_df_3.select([count(when(col(c).isNull(), c)).alias(c) for c in oct_df_3.columns]).show()\n"
   ]
  },
  {
   "cell_type": "code",
   "execution_count": 37,
   "metadata": {},
   "outputs": [
    {
     "data": {
      "text/plain": [
       "42448764"
      ]
     },
     "execution_count": 37,
     "metadata": {},
     "output_type": "execute_result"
    }
   ],
   "source": [
    "oct_df.count()"
   ]
  },
  {
   "cell_type": "code",
   "execution_count": 34,
   "metadata": {},
   "outputs": [
    {
     "data": {
      "text/plain": [
       "42448764"
      ]
     },
     "execution_count": 34,
     "metadata": {},
     "output_type": "execute_result"
    }
   ],
   "source": [
    "oct_df_3.count()"
   ]
  },
  {
   "cell_type": "code",
   "execution_count": 32,
   "metadata": {},
   "outputs": [],
   "source": [
    "oct_df_4 = impute_by_mode_value(oct_df, \"category_id\", \"category_code\")"
   ]
  },
  {
   "cell_type": "code",
   "execution_count": 33,
   "metadata": {},
   "outputs": [
    {
     "name": "stdout",
     "output_type": "stream",
     "text": [
      "+-----------+----------+----------+----------+-------------+-------+-----+-------+------------+--------------+--------------+\n",
      "|category_id|event_time|event_type|product_id|category_code|  brand|price|user_id|user_session|event_time_ymd|event_time_hms|\n",
      "+-----------+----------+----------+----------+-------------+-------+-----+-------+------------+--------------+--------------+\n",
      "|          0|         0|         0|         0|     13515609|6113008|    0|      0|           2|             0|             0|\n",
      "+-----------+----------+----------+----------+-------------+-------+-----+-------+------------+--------------+--------------+\n",
      "\n"
     ]
    }
   ],
   "source": [
    "\n",
    "\n",
    "# 결측치 개수 확인\n",
    "oct_df_4.select([count(when(col(c).isNull(), c)).alias(c) for c in oct_df_4.columns]).show()\n"
   ]
  },
  {
   "cell_type": "code",
   "execution_count": 15,
   "metadata": {},
   "outputs": [
    {
     "name": "stdout",
     "output_type": "stream",
     "text": [
      "+-------------------+----------+----------+-------------------+--------------------+-----+-----+---------+--------------------+--------------+--------------+-----------+\n",
      "|         event_time|event_type|product_id|        category_id|       category_code|brand|price|  user_id|        user_session|event_time_ymd|event_time_hms|source_file|\n",
      "+-------------------+----------+----------+-------------------+--------------------+-----+-----+---------+--------------------+--------------+--------------+-----------+\n",
      "|2019-10-01 09:00:00|      view|   3900821|2053013552326770905|appliances.enviro...| aqua| 33.2|554748717|9333dfbd-b87a-470...|    2019-10-01|      09:00:00|   2019_oct|\n",
      "|2019-10-01 12:12:34|      view|   3900821|2053013552326770905|appliances.enviro...| aqua| 33.2|512448158|52a857d6-b4db-42c...|    2019-10-01|      12:12:34|   2019_oct|\n",
      "|2019-10-01 12:13:12|  purchase|   3900821|2053013552326770905|appliances.enviro...| aqua| 33.2|512448158|52a857d6-b4db-42c...|    2019-10-01|      12:13:12|   2019_oct|\n",
      "|2019-10-01 12:24:58|      view|   3900821|2053013552326770905|appliances.enviro...| aqua| 33.2|541410551|50b74e0f-83a4-411...|    2019-10-01|      12:24:58|   2019_oct|\n",
      "|2019-10-01 12:27:28|      view|   3900821|2053013552326770905|appliances.enviro...| aqua| 33.2|541410551|50b74e0f-83a4-411...|    2019-10-01|      12:27:28|   2019_oct|\n",
      "|2019-10-01 12:27:48|      view|   3900821|2053013552326770905|appliances.enviro...| aqua| 33.2|541410551|50b74e0f-83a4-411...|    2019-10-01|      12:27:48|   2019_oct|\n",
      "|2019-10-01 12:30:35|      view|   3900821|2053013552326770905|appliances.enviro...| aqua| 33.2|531153447|80ef3e67-93fc-435...|    2019-10-01|      12:30:35|   2019_oct|\n",
      "|2019-10-01 12:30:52|      view|   3900821|2053013552326770905|appliances.enviro...| aqua| 33.2|531153447|80ef3e67-93fc-435...|    2019-10-01|      12:30:52|   2019_oct|\n",
      "|2019-10-01 12:32:16|      view|   3900821|2053013552326770905|appliances.enviro...| aqua| 33.2|531153447|80ef3e67-93fc-435...|    2019-10-01|      12:32:16|   2019_oct|\n",
      "|2019-10-01 12:32:56|      view|   3900821|2053013552326770905|appliances.enviro...| aqua| 33.2|533907925|a896f11f-8b05-497...|    2019-10-01|      12:32:56|   2019_oct|\n",
      "|2019-10-01 13:28:51|      view|   3900821|2053013552326770905|appliances.enviro...| aqua| 33.2|543505965|c20a1e99-daa8-438...|    2019-10-01|      13:28:51|   2019_oct|\n",
      "|2019-10-01 13:43:09|      view|   3900821|2053013552326770905|appliances.enviro...| aqua| 33.2|536714737|b96744eb-57da-434...|    2019-10-01|      13:43:09|   2019_oct|\n",
      "|2019-10-01 13:43:26|      view|   3900821|2053013552326770905|appliances.enviro...| aqua| 33.2|536714737|b96744eb-57da-434...|    2019-10-01|      13:43:26|   2019_oct|\n",
      "|2019-10-01 13:51:06|      view|   3900821|2053013552326770905|appliances.enviro...| aqua| 33.2|512872339|bba8c738-3f6e-479...|    2019-10-01|      13:51:06|   2019_oct|\n",
      "|2019-10-01 13:56:51|      view|   3900821|2053013552326770905|appliances.enviro...| aqua| 33.2|515980327|cfa11b95-0725-48b...|    2019-10-01|      13:56:51|   2019_oct|\n",
      "|2019-10-01 14:15:20|      view|   3900821|2053013552326770905|appliances.enviro...| aqua| 33.2|512872339|bba8c738-3f6e-479...|    2019-10-01|      14:15:20|   2019_oct|\n",
      "|2019-10-01 14:15:47|      view|   3900821|2053013552326770905|appliances.enviro...| aqua| 33.2|512872339|bba8c738-3f6e-479...|    2019-10-01|      14:15:47|   2019_oct|\n",
      "|2019-10-01 14:15:57|      view|   3900821|2053013552326770905|appliances.enviro...| aqua| 33.2|512872339|bba8c738-3f6e-479...|    2019-10-01|      14:15:57|   2019_oct|\n",
      "|2019-10-01 14:16:47|      view|   3900821|2053013552326770905|appliances.enviro...| aqua| 33.2|542782262|c2213000-2725-445...|    2019-10-01|      14:16:47|   2019_oct|\n",
      "|2019-10-01 14:17:10|      view|   3900821|2053013552326770905|appliances.enviro...| aqua| 33.2|542782262|c2213000-2725-445...|    2019-10-01|      14:17:10|   2019_oct|\n",
      "+-------------------+----------+----------+-------------------+--------------------+-----+-----+---------+--------------------+--------------+--------------+-----------+\n",
      "only showing top 20 rows\n",
      "\n"
     ]
    }
   ],
   "source": [
    "parquet_df.filter(parquet_df[\"product_id\"]==3900821).orderBy(\"event_time\").show()"
   ]
  },
  {
   "cell_type": "code",
   "execution_count": null,
   "metadata": {},
   "outputs": [],
   "source": []
  },
  {
   "cell_type": "code",
   "execution_count": 4,
   "metadata": {},
   "outputs": [
    {
     "name": "stdout",
     "output_type": "stream",
     "text": [
      "root\n",
      " |-- event_time: timestamp (nullable = true)\n",
      " |-- event_type: string (nullable = true)\n",
      " |-- product_id: integer (nullable = true)\n",
      " |-- category_id: long (nullable = true)\n",
      " |-- category_code: string (nullable = true)\n",
      " |-- brand: string (nullable = true)\n",
      " |-- price: double (nullable = true)\n",
      " |-- user_id: integer (nullable = true)\n",
      " |-- user_session: string (nullable = true)\n",
      " |-- event_time_ymd: string (nullable = true)\n",
      " |-- event_time_hms: string (nullable = true)\n",
      " |-- source_file: string (nullable = true)\n",
      "\n"
     ]
    }
   ],
   "source": [
    "parquet_df.printSchema()"
   ]
  },
  {
   "cell_type": "code",
   "execution_count": 5,
   "metadata": {},
   "outputs": [
    {
     "name": "stdout",
     "output_type": "stream",
     "text": [
      "+-----------------------------+\n",
      "|category_code                |\n",
      "+-----------------------------+\n",
      "|appliances.kitchen.oven      |\n",
      "|computers.components.cpu     |\n",
      "|appliances.environment.vacuum|\n",
      "|NULL                         |\n",
      "|electronics.smartphone       |\n",
      "|apparel.shoes                |\n",
      "|electronics.smartphone       |\n",
      "|electronics.smartphone       |\n",
      "|NULL                         |\n",
      "|appliances.kitchen.dishwasher|\n",
      "|NULL                         |\n",
      "|kids.carriage                |\n",
      "|NULL                         |\n",
      "|accessories.bag              |\n",
      "|appliances.environment.vacuum|\n",
      "|electronics.smartphone       |\n",
      "|electronics.smartphone       |\n",
      "|auto.accessories.player      |\n",
      "|NULL                         |\n",
      "|electronics.video.tv         |\n",
      "+-----------------------------+\n",
      "only showing top 20 rows\n",
      "\n"
     ]
    }
   ],
   "source": [
    "parquet_df.select(\"category_code\").show(truncate=False)"
   ]
  },
  {
   "cell_type": "code",
   "execution_count": 8,
   "metadata": {},
   "outputs": [
    {
     "name": "stdout",
     "output_type": "stream",
     "text": [
      "+-------------------+----------+----------+-------------------+--------------------+--------+-------+---------+--------------------+--------------+--------------+-----------+-------------+------------+----------------+\n",
      "|         event_time|event_type|product_id|        category_id|       category_code|   brand|  price|  user_id|        user_session|event_time_ymd|event_time_hms|source_file|main_category|sub_category|sub_sub_category|\n",
      "+-------------------+----------+----------+-------------------+--------------------+--------+-------+---------+--------------------+--------------+--------------+-----------+-------------+------------+----------------+\n",
      "|2019-11-17 17:43:00|      view|   2501799|2053013564003713919|appliances.kitche...|elenberg|  46.31|563237118|4368d099-6d19-47c...|    2019-11-17|      17:43:00|   2019_nov|   appliances|     kitchen|            oven|\n",
      "|2019-11-17 17:43:00|      view|   6400335|2053013554121933129|computers.compone...|   intel| 435.28|551129779|4db2c365-ee85-443...|    2019-11-17|      17:43:00|   2019_nov|    computers|  components|             cpu|\n",
      "|2019-11-17 17:43:00|      view|   3701538|2053013565983425517|appliances.enviro...|  irobot|1878.81|539845715|bf7d95c0-69e1-40f...|    2019-11-17|      17:43:00|   2019_nov|   appliances| environment|          vacuum|\n",
      "+-------------------+----------+----------+-------------------+--------------------+--------+-------+---------+--------------------+--------------+--------------+-----------+-------------+------------+----------------+\n",
      "only showing top 3 rows\n",
      "\n"
     ]
    }
   ],
   "source": [
    "parquet_df.withColumn(\"main_category\", split(parquet_df[\"category_code\"], \"\\.\").getItem(0)) \\\n",
    "             .withColumn(\"sub_category\", split(parquet_df[\"category_code\"], \"\\.\").getItem(1)) \\\n",
    "             .withColumn(\"sub_sub_category\", split(parquet_df[\"category_code\"], \"\\.\").getItem(2)).show(3)"
   ]
  },
  {
   "cell_type": "code",
   "execution_count": 11,
   "metadata": {},
   "outputs": [
    {
     "name": "stdout",
     "output_type": "stream",
     "text": [
      "+-------------------+----------+----------+-------------------+--------------------+--------+-------+---------+--------------------+--------------+--------------+-----------+-------------+------------+----------------+\n",
      "|         event_time|event_type|product_id|        category_id|       category_code|   brand|  price|  user_id|        user_session|event_time_ymd|event_time_hms|source_file|main_category|sub_category|sub_sub_category|\n",
      "+-------------------+----------+----------+-------------------+--------------------+--------+-------+---------+--------------------+--------------+--------------+-----------+-------------+------------+----------------+\n",
      "|2019-11-17 17:43:00|      view|   2501799|2053013564003713919|appliances.kitche...|elenberg|  46.31|563237118|4368d099-6d19-47c...|    2019-11-17|      17:43:00|   2019_nov|   appliances|     kitchen|            oven|\n",
      "|2019-11-17 17:43:00|      view|   6400335|2053013554121933129|computers.compone...|   intel| 435.28|551129779|4db2c365-ee85-443...|    2019-11-17|      17:43:00|   2019_nov|    computers|  components|             cpu|\n",
      "|2019-11-17 17:43:00|      view|   3701538|2053013565983425517|appliances.enviro...|  irobot|1878.81|539845715|bf7d95c0-69e1-40f...|    2019-11-17|      17:43:00|   2019_nov|   appliances| environment|          vacuum|\n",
      "+-------------------+----------+----------+-------------------+--------------------+--------+-------+---------+--------------------+--------------+--------------+-----------+-------------+------------+----------------+\n",
      "only showing top 3 rows\n",
      "\n"
     ]
    }
   ],
   "source": [
    "# Split 결과를 배열로 저장\n",
    "category_split_col = split(col(\"category_code\"), \"\\.\")\n",
    "\n",
    "# 컬럼 추가\n",
    "parquet_df.withColumns({\n",
    "    \"main_category\": category_split_col.getItem(0),\n",
    "    \"sub_category\": when(category_split_col.getItem(1).isNotNull(), category_split_col.getItem(1)).otherwise(\"None\"),\n",
    "    \"sub_sub_category\": when(category_split_col.getItem(2).isNotNull(), category_split_col.getItem(2)).otherwise(\"None\")\n",
    "}).show(3)"
   ]
  },
  {
   "cell_type": "code",
   "execution_count": 7,
   "metadata": {},
   "outputs": [
    {
     "name": "stdout",
     "output_type": "stream",
     "text": [
      "+-------------------+----------+----------+-------------------+--------------------+--------+-------+---------+--------------------+--------------+--------------+-----------+-------------------+\n",
      "|         event_time|event_type|product_id|        category_id|       category_code|   brand|  price|  user_id|        user_session|event_time_ymd|event_time_hms|source_file|event_time_day_name|\n",
      "+-------------------+----------+----------+-------------------+--------------------+--------+-------+---------+--------------------+--------------+--------------+-----------+-------------------+\n",
      "|2019-11-17 17:43:00|      view|   2501799|2053013564003713919|appliances.kitche...|elenberg|  46.31|563237118|4368d099-6d19-47c...|    2019-11-17|      17:43:00|   2019_nov|                Sun|\n",
      "|2019-11-17 17:43:00|      view|   6400335|2053013554121933129|computers.compone...|   intel| 435.28|551129779|4db2c365-ee85-443...|    2019-11-17|      17:43:00|   2019_nov|                Sun|\n",
      "|2019-11-17 17:43:00|      view|   3701538|2053013565983425517|appliances.enviro...|  irobot|1878.81|539845715|bf7d95c0-69e1-40f...|    2019-11-17|      17:43:00|   2019_nov|                Sun|\n",
      "+-------------------+----------+----------+-------------------+--------------------+--------+-------+---------+--------------------+--------------+--------------+-----------+-------------------+\n",
      "only showing top 3 rows\n",
      "\n"
     ]
    }
   ],
   "source": [
    "parquet_df.withColumn(\"event_time_day_name\", date_format(\"event_time\", \"E\")).show(3)"
   ]
  },
  {
   "cell_type": "code",
   "execution_count": 8,
   "metadata": {},
   "outputs": [
    {
     "name": "stdout",
     "output_type": "stream",
     "text": [
      "+-------------------+----------+----------+-------------------+--------------------+--------+-------+---------+--------------------+--------------+--------------+-----------+----------------+\n",
      "|         event_time|event_type|product_id|        category_id|       category_code|   brand|  price|  user_id|        user_session|event_time_ymd|event_time_hms|source_file|event_time_month|\n",
      "+-------------------+----------+----------+-------------------+--------------------+--------+-------+---------+--------------------+--------------+--------------+-----------+----------------+\n",
      "|2019-11-17 17:43:00|      view|   2501799|2053013564003713919|appliances.kitche...|elenberg|  46.31|563237118|4368d099-6d19-47c...|    2019-11-17|      17:43:00|   2019_nov|              11|\n",
      "|2019-11-17 17:43:00|      view|   6400335|2053013554121933129|computers.compone...|   intel| 435.28|551129779|4db2c365-ee85-443...|    2019-11-17|      17:43:00|   2019_nov|              11|\n",
      "|2019-11-17 17:43:00|      view|   3701538|2053013565983425517|appliances.enviro...|  irobot|1878.81|539845715|bf7d95c0-69e1-40f...|    2019-11-17|      17:43:00|   2019_nov|              11|\n",
      "+-------------------+----------+----------+-------------------+--------------------+--------+-------+---------+--------------------+--------------+--------------+-----------+----------------+\n",
      "only showing top 3 rows\n",
      "\n"
     ]
    }
   ],
   "source": [
    "parquet_df.withColumn(\"event_time_month\", date_format(\"event_time\", \"MM\")).show(3)"
   ]
  },
  {
   "cell_type": "code",
   "execution_count": 11,
   "metadata": {},
   "outputs": [
    {
     "name": "stdout",
     "output_type": "stream",
     "text": [
      "+-------------------+----------+----------+-------------------+--------------------+--------+-------+---------+--------------------+--------------+--------------+-----------+---------------+\n",
      "|         event_time|event_type|product_id|        category_id|       category_code|   brand|  price|  user_id|        user_session|event_time_ymd|event_time_hms|source_file|event_time_hour|\n",
      "+-------------------+----------+----------+-------------------+--------------------+--------+-------+---------+--------------------+--------------+--------------+-----------+---------------+\n",
      "|2019-11-17 17:43:00|      view|   2501799|2053013564003713919|appliances.kitche...|elenberg|  46.31|563237118|4368d099-6d19-47c...|    2019-11-17|      17:43:00|   2019_nov|             17|\n",
      "|2019-11-17 17:43:00|      view|   6400335|2053013554121933129|computers.compone...|   intel| 435.28|551129779|4db2c365-ee85-443...|    2019-11-17|      17:43:00|   2019_nov|             17|\n",
      "|2019-11-17 17:43:00|      view|   3701538|2053013565983425517|appliances.enviro...|  irobot|1878.81|539845715|bf7d95c0-69e1-40f...|    2019-11-17|      17:43:00|   2019_nov|             17|\n",
      "+-------------------+----------+----------+-------------------+--------------------+--------+-------+---------+--------------------+--------------+--------------+-----------+---------------+\n",
      "only showing top 3 rows\n",
      "\n"
     ]
    }
   ],
   "source": [
    "parquet_df.withColumn(\"event_time_hour\", date_format(\"event_time\", \"HH\")).show(3)"
   ]
  },
  {
   "cell_type": "code",
   "execution_count": 5,
   "metadata": {},
   "outputs": [],
   "source": [
    "from functools import reduce\n",
    "def making_columns_for_transform(df: SparkDataFrame, event_col: str) -> SparkDataFrame:\n",
    "    \"\"\"\n",
    "    event_time 컬럼을 바탕으로, 월, 일, 시, 요일 파생 컬럼 생성\n",
    "    \"\"\"\n",
    "    transformations = {\n",
    "        \"event_time_month\": \"MM\",      # 월\n",
    "        \"event_time_day\": \"dd\",        # 일\n",
    "        \"event_time_hour\": \"HH\",       # 시\n",
    "        \"event_time_day_name\": \"E\"     # 요일\n",
    "    }\n",
    "\n",
    "    df = reduce(lambda acc, col_format: acc.withColumn(col_format[0], date_format(event_col, col_format[1])),\n",
    "                transformations.items(), df)\n",
    "\n",
    "    return df"
   ]
  },
  {
   "cell_type": "code",
   "execution_count": 6,
   "metadata": {},
   "outputs": [],
   "source": [
    "df_acc = making_columns_for_transform(parquet_df, \"event_time\")"
   ]
  },
  {
   "cell_type": "code",
   "execution_count": 9,
   "metadata": {},
   "outputs": [
    {
     "name": "stdout",
     "output_type": "stream",
     "text": [
      "+-------------------+----------+----------+-------------------+--------------------+--------+-------+---------+--------------------+--------------+--------------+-----------+----------------+--------------+---------------+-------------------+\n",
      "|         event_time|event_type|product_id|        category_id|       category_code|   brand|  price|  user_id|        user_session|event_time_ymd|event_time_hms|source_file|event_time_month|event_time_day|event_time_hour|event_time_day_name|\n",
      "+-------------------+----------+----------+-------------------+--------------------+--------+-------+---------+--------------------+--------------+--------------+-----------+----------------+--------------+---------------+-------------------+\n",
      "|2019-11-17 17:43:00|      view|   2501799|2053013564003713919|appliances.kitche...|elenberg|  46.31|563237118|4368d099-6d19-47c...|    2019-11-17|      17:43:00|   2019_nov|              11|            17|             17|                Sun|\n",
      "|2019-11-17 17:43:00|      view|   6400335|2053013554121933129|computers.compone...|   intel| 435.28|551129779|4db2c365-ee85-443...|    2019-11-17|      17:43:00|   2019_nov|              11|            17|             17|                Sun|\n",
      "|2019-11-17 17:43:00|      view|   3701538|2053013565983425517|appliances.enviro...|  irobot|1878.81|539845715|bf7d95c0-69e1-40f...|    2019-11-17|      17:43:00|   2019_nov|              11|            17|             17|                Sun|\n",
      "+-------------------+----------+----------+-------------------+--------------------+--------+-------+---------+--------------------+--------------+--------------+-----------+----------------+--------------+---------------+-------------------+\n",
      "only showing top 3 rows\n",
      "\n"
     ]
    }
   ],
   "source": [
    "df_acc.show(3)"
   ]
  },
  {
   "cell_type": "code",
   "execution_count": null,
   "metadata": {},
   "outputs": [],
   "source": []
  },
  {
   "cell_type": "code",
   "execution_count": 9,
   "metadata": {},
   "outputs": [
    {
     "name": "stdout",
     "output_type": "stream",
     "text": [
      "+-------------------+----------+----------+-------------------+--------------------+--------+-------+---------+--------------------+--------------+--------------+-----------+\n",
      "|         event_time|event_type|product_id|        category_id|       category_code|   brand|  price|  user_id|        user_session|event_time_ymd|event_time_hms|source_file|\n",
      "+-------------------+----------+----------+-------------------+--------------------+--------+-------+---------+--------------------+--------------+--------------+-----------+\n",
      "|2019-10-01 09:00:00|      view|  44600062|2103807459595387724|                NULL|shiseido|  35.79|541312140|72d76fde-8bb3-4e0...|    2019-10-01|      09:00:00|   2019_oct|\n",
      "|2019-10-01 09:00:00|      view|   3900821|2053013552326770905|appliances.enviro...|    aqua|   33.2|554748717|9333dfbd-b87a-470...|    2019-10-01|      09:00:00|   2019_oct|\n",
      "|2019-10-01 09:00:01|      view|  17200506|2053013559792632471|furniture.living_...|    NULL|  543.1|519107250|566511c2-e2e3-422...|    2019-10-01|      09:00:01|   2019_oct|\n",
      "|2019-10-01 09:00:01|      view|   1307067|2053013558920217191|  computers.notebook|  lenovo| 251.74|550050854|7c90fc70-0e80-459...|    2019-10-01|      09:00:01|   2019_oct|\n",
      "|2019-10-01 09:00:04|      view|   1004237|2053013555631882655|electronics.smart...|   apple|1081.98|535871217|c6bd7419-2748-4c5...|    2019-10-01|      09:00:04|   2019_oct|\n",
      "|2019-10-01 09:00:05|      view|   1480613|2053013561092866779|   computers.desktop|  pulser| 908.62|512742880|0d0d91c2-c9c2-4e8...|    2019-10-01|      09:00:05|   2019_oct|\n",
      "|2019-10-01 09:00:08|      view|  17300353|2053013553853497655|                NULL|   creed| 380.96|555447699|4fe811e9-91de-46d...|    2019-10-01|      09:00:08|   2019_oct|\n",
      "|2019-10-01 09:00:08|      view|  31500053|2053013558031024687|                NULL|luminarc|  41.16|550978835|6280d577-25c8-414...|    2019-10-01|      09:00:08|   2019_oct|\n",
      "|2019-10-01 09:00:10|      view|  28719074|2053013565480109009|  apparel.shoes.keds|   baden| 102.71|520571932|ac1cd4e5-a3ce-422...|    2019-10-01|      09:00:10|   2019_oct|\n",
      "|2019-10-01 09:00:11|      view|   1004545|2053013555631882655|electronics.smart...|  huawei| 566.01|537918940|406c46ed-90a4-478...|    2019-10-01|      09:00:11|   2019_oct|\n",
      "|2019-10-01 09:00:11|      view|   2900536|2053013554776244595|appliances.kitche...|elenberg|  51.46|555158050|b5bdd0b3-4ca2-4c5...|    2019-10-01|      09:00:11|   2019_oct|\n",
      "|2019-10-01 09:00:11|      view|   1005011|2053013555631882655|electronics.smart...| samsung| 900.64|530282093|50a293fb-5940-41b...|    2019-10-01|      09:00:11|   2019_oct|\n",
      "|2019-10-01 09:00:13|      view|   3900746|2053013552326770905|appliances.enviro...|   haier| 102.38|555444559|98b88fa0-d8fa-4b9...|    2019-10-01|      09:00:13|   2019_oct|\n",
      "|2019-10-01 09:00:15|      view|  44600062|2103807459595387724|                NULL|shiseido|  35.79|541312140|72d76fde-8bb3-4e0...|    2019-10-01|      09:00:15|   2019_oct|\n",
      "|2019-10-01 09:00:16|      view|  13500240|2053013557099889147|furniture.bedroom...|     brw|  93.18|555446365|7f0062d8-ead0-4e0...|    2019-10-01|      09:00:16|   2019_oct|\n",
      "|2019-10-01 09:00:17|      view|  23100006|2053013561638126333|                NULL|    NULL| 357.79|513642368|17566c27-0a8f-450...|    2019-10-01|      09:00:17|   2019_oct|\n",
      "|2019-10-01 09:00:18|      view|   1801995|2053013554415534427|electronics.video.tv|   haier| 193.03|537192226|e3151795-c355-4ef...|    2019-10-01|      09:00:18|   2019_oct|\n",
      "|2019-10-01 09:00:18|      view|  10900029|2053013555069845885|appliances.kitche...|   bosch|  58.95|519528062|901b9e3c-3f8f-414...|    2019-10-01|      09:00:18|   2019_oct|\n",
      "|2019-10-01 09:00:19|      view|   1306631|2053013558920217191|  computers.notebook|      hp| 580.89|550050854|7c90fc70-0e80-459...|    2019-10-01|      09:00:19|   2019_oct|\n",
      "|2019-10-01 09:00:19|      view|   1005135|2053013555631882655|electronics.smart...|   apple|1747.79|535871217|c6bd7419-2748-4c5...|    2019-10-01|      09:00:19|   2019_oct|\n",
      "+-------------------+----------+----------+-------------------+--------------------+--------+-------+---------+--------------------+--------------+--------------+-----------+\n",
      "only showing top 20 rows\n",
      "\n"
     ]
    }
   ],
   "source": [
    "parquet_df.filter(\n",
    "    (to_date(parquet_df.event_time_ymd) >= '2019-10-01') &\n",
    "    (to_date(parquet_df.event_time_ymd) <= '2019-10-06')\n",
    ").show()"
   ]
  },
  {
   "cell_type": "code",
   "execution_count": 11,
   "metadata": {},
   "outputs": [],
   "source": [
    "def set_filtering_date(start_date=\"2019-10-01\", end_date=\"2019-10-06\", freq=\"7D\"):\n",
    "    weekly_dict = {\n",
    "        f\"week_{i+1}\": {\n",
    "            \"start_date\": str(start.date()),\n",
    "            \"end_date\": str((start + pd.Timedelta(days=6)).date())\n",
    "        }\n",
    "        for i, start in enumerate(pd.date_range(start=start_date, end=end_date, freq=freq))\n",
    "    }\n",
    "\n",
    "    return weekly_dict"
   ]
  },
  {
   "cell_type": "code",
   "execution_count": 14,
   "metadata": {},
   "outputs": [
    {
     "data": {
      "text/plain": [
       "{'week_1': {'start_date': '2019-12-29', 'end_date': '2020-01-04'}}"
      ]
     },
     "execution_count": 14,
     "metadata": {},
     "output_type": "execute_result"
    }
   ],
   "source": [
    "set_filtering_date('2019-12-29', '2019-12-31')"
   ]
  },
  {
   "cell_type": "code",
   "execution_count": 10,
   "metadata": {},
   "outputs": [
    {
     "name": "stdout",
     "output_type": "stream",
     "text": [
      "+-------------------+----------+----------+-------------------+--------------------+--------+-------+---------+--------------------+--------------+--------------+-----------+\n",
      "|         event_time|event_type|product_id|        category_id|       category_code|   brand|  price|  user_id|        user_session|event_time_ymd|event_time_hms|source_file|\n",
      "+-------------------+----------+----------+-------------------+--------------------+--------+-------+---------+--------------------+--------------+--------------+-----------+\n",
      "|2019-10-01 09:00:00|      view|  44600062|2103807459595387724|                NULL|shiseido|  35.79|541312140|72d76fde-8bb3-4e0...|    2019-10-01|      09:00:00|   2019_oct|\n",
      "|2019-10-01 09:00:00|      view|   3900821|2053013552326770905|appliances.enviro...|    aqua|   33.2|554748717|9333dfbd-b87a-470...|    2019-10-01|      09:00:00|   2019_oct|\n",
      "|2019-10-01 09:00:01|      view|  17200506|2053013559792632471|furniture.living_...|    NULL|  543.1|519107250|566511c2-e2e3-422...|    2019-10-01|      09:00:01|   2019_oct|\n",
      "|2019-10-01 09:00:01|      view|   1307067|2053013558920217191|  computers.notebook|  lenovo| 251.74|550050854|7c90fc70-0e80-459...|    2019-10-01|      09:00:01|   2019_oct|\n",
      "|2019-10-01 09:00:04|      view|   1004237|2053013555631882655|electronics.smart...|   apple|1081.98|535871217|c6bd7419-2748-4c5...|    2019-10-01|      09:00:04|   2019_oct|\n",
      "|2019-10-01 09:00:05|      view|   1480613|2053013561092866779|   computers.desktop|  pulser| 908.62|512742880|0d0d91c2-c9c2-4e8...|    2019-10-01|      09:00:05|   2019_oct|\n",
      "|2019-10-01 09:00:08|      view|  17300353|2053013553853497655|                NULL|   creed| 380.96|555447699|4fe811e9-91de-46d...|    2019-10-01|      09:00:08|   2019_oct|\n",
      "|2019-10-01 09:00:08|      view|  31500053|2053013558031024687|                NULL|luminarc|  41.16|550978835|6280d577-25c8-414...|    2019-10-01|      09:00:08|   2019_oct|\n",
      "|2019-10-01 09:00:10|      view|  28719074|2053013565480109009|  apparel.shoes.keds|   baden| 102.71|520571932|ac1cd4e5-a3ce-422...|    2019-10-01|      09:00:10|   2019_oct|\n",
      "|2019-10-01 09:00:11|      view|   1004545|2053013555631882655|electronics.smart...|  huawei| 566.01|537918940|406c46ed-90a4-478...|    2019-10-01|      09:00:11|   2019_oct|\n",
      "|2019-10-01 09:00:11|      view|   2900536|2053013554776244595|appliances.kitche...|elenberg|  51.46|555158050|b5bdd0b3-4ca2-4c5...|    2019-10-01|      09:00:11|   2019_oct|\n",
      "|2019-10-01 09:00:11|      view|   1005011|2053013555631882655|electronics.smart...| samsung| 900.64|530282093|50a293fb-5940-41b...|    2019-10-01|      09:00:11|   2019_oct|\n",
      "|2019-10-01 09:00:13|      view|   3900746|2053013552326770905|appliances.enviro...|   haier| 102.38|555444559|98b88fa0-d8fa-4b9...|    2019-10-01|      09:00:13|   2019_oct|\n",
      "|2019-10-01 09:00:15|      view|  44600062|2103807459595387724|                NULL|shiseido|  35.79|541312140|72d76fde-8bb3-4e0...|    2019-10-01|      09:00:15|   2019_oct|\n",
      "|2019-10-01 09:00:16|      view|  13500240|2053013557099889147|furniture.bedroom...|     brw|  93.18|555446365|7f0062d8-ead0-4e0...|    2019-10-01|      09:00:16|   2019_oct|\n",
      "|2019-10-01 09:00:17|      view|  23100006|2053013561638126333|                NULL|    NULL| 357.79|513642368|17566c27-0a8f-450...|    2019-10-01|      09:00:17|   2019_oct|\n",
      "|2019-10-01 09:00:18|      view|   1801995|2053013554415534427|electronics.video.tv|   haier| 193.03|537192226|e3151795-c355-4ef...|    2019-10-01|      09:00:18|   2019_oct|\n",
      "|2019-10-01 09:00:18|      view|  10900029|2053013555069845885|appliances.kitche...|   bosch|  58.95|519528062|901b9e3c-3f8f-414...|    2019-10-01|      09:00:18|   2019_oct|\n",
      "|2019-10-01 09:00:19|      view|   1306631|2053013558920217191|  computers.notebook|      hp| 580.89|550050854|7c90fc70-0e80-459...|    2019-10-01|      09:00:19|   2019_oct|\n",
      "|2019-10-01 09:00:19|      view|   1005135|2053013555631882655|electronics.smart...|   apple|1747.79|535871217|c6bd7419-2748-4c5...|    2019-10-01|      09:00:19|   2019_oct|\n",
      "+-------------------+----------+----------+-------------------+--------------------+--------+-------+---------+--------------------+--------------+--------------+-----------+\n",
      "only showing top 20 rows\n",
      "\n"
     ]
    }
   ],
   "source": [
    "parquet_df.filter(to_date(parquet_df.event_time_ymd).between('2019-10-01', '2019-10-06')).show()\n"
   ]
  },
  {
   "cell_type": "markdown",
   "metadata": {},
   "source": [
    "## 2. 데이터 확인"
   ]
  },
  {
   "cell_type": "code",
   "execution_count": 4,
   "metadata": {},
   "outputs": [
    {
     "name": "stdout",
     "output_type": "stream",
     "text": [
      "+----------+----------+----------+-----------+-------------+--------+-----+-------+------------+--------------+--------------+-----------+\n",
      "|event_time|event_type|product_id|category_id|category_code|   brand|price|user_id|user_session|event_time_ymd|event_time_hms|source_file|\n",
      "+----------+----------+----------+-----------+-------------+--------+-----+-------+------------+--------------+--------------+-----------+\n",
      "|         0|         0|         0|          0|     65171763|55670767|    0|      0|         226|             0|             0|          0|\n",
      "+----------+----------+----------+-----------+-------------+--------+-----+-------+------------+--------------+--------------+-----------+\n",
      "\n"
     ]
    }
   ],
   "source": [
    "null_counts = parquet_df.agg(\n",
    "    *[sum(col(c).isNull().cast(\"int\")).alias(c) for c in parquet_df.columns]\n",
    ")\n",
    "null_counts.show()"
   ]
  },
  {
   "cell_type": "code",
   "execution_count": 4,
   "metadata": {},
   "outputs": [],
   "source": [
    "# null_counts = parquet_df.select(\n",
    "#     [F.count(F.when(F.col(c).isNull(), c)).alias(c) for c in parquet_df.columns]\n",
    "# )\n",
    "# null_counts.show()"
   ]
  },
  {
   "cell_type": "code",
   "execution_count": 15,
   "metadata": {},
   "outputs": [
    {
     "name": "stdout",
     "output_type": "stream",
     "text": [
      "DataFrame shape: (411709736, 12)\n"
     ]
    }
   ],
   "source": [
    "# 행의 개수\n",
    "num_rows = parquet_df.count()\n",
    "\n",
    "# 열의 개수: parquet_df.columns 리스트의 길이 계산\n",
    "num_columns = len(parquet_df.columns)\n",
    "\n",
    "print(\"DataFrame shape:\", (num_rows, num_columns))"
   ]
  },
  {
   "cell_type": "code",
   "execution_count": 24,
   "metadata": {},
   "outputs": [
    {
     "data": {
      "text/plain": [
       "15.829541373779902"
      ]
     },
     "execution_count": 24,
     "metadata": {},
     "output_type": "execute_result"
    }
   ],
   "source": [
    "(65171763 / 411709736) * 100"
   ]
  },
  {
   "cell_type": "code",
   "execution_count": 6,
   "metadata": {},
   "outputs": [
    {
     "name": "stdout",
     "output_type": "stream",
     "text": [
      "+-------------------+----------+----------+-------------------+-------------+-------+------+---------+--------------------+--------------+--------------+-----------+\n",
      "|         event_time|event_type|product_id|        category_id|category_code|  brand| price|  user_id|        user_session|event_time_ymd|event_time_hms|source_file|\n",
      "+-------------------+----------+----------+-------------------+-------------+-------+------+---------+--------------------+--------------+--------------+-----------+\n",
      "|2019-11-17 17:43:00|      view|  26400266|2053013563651392361|         NULL|lucente|119.18|572211322|8e6c63f8-7f34-48b...|    2019-11-17|      17:43:00|   2019_nov|\n",
      "|2019-11-17 17:43:00|      view|  26203739|2053013563693335403|         NULL|lucente|158.56|527083517|e6bf2cdb-778f-44a...|    2019-11-17|      17:43:00|   2019_nov|\n",
      "|2019-11-17 17:43:01|      cart|  26500142|2053013563550729061|         NULL|lucente|234.76|514929163|f77c9416-abd5-47a...|    2019-11-17|      17:43:01|   2019_nov|\n",
      "|2019-11-17 17:43:02|      view|  26401450|2053013563651392361|         NULL|lucente| 63.32|522234566|f4257987-2212-4ad...|    2019-11-17|      17:43:02|   2019_nov|\n",
      "|2019-11-17 17:43:03|      view|  26300100|2053013563584283495|         NULL|lucente|155.47|572456471|dd319309-fbf1-411...|    2019-11-17|      17:43:03|   2019_nov|\n",
      "|2019-11-17 17:43:04|      view|  26500148|2053013563550729061|         NULL|lucente| 293.7|533966254|3de1ea8c-22f1-4fa...|    2019-11-17|      17:43:04|   2019_nov|\n",
      "|2019-11-17 17:43:05|      view|  26300102|2053013563584283495|         NULL|lucente|185.59|545345897|eb850836-bb56-467...|    2019-11-17|      17:43:05|   2019_nov|\n",
      "|2019-11-17 17:43:08|      view|  26402365|2053013563651392361|         NULL|lucente|103.73|539295987|e649865c-2440-4a2...|    2019-11-17|      17:43:08|   2019_nov|\n",
      "|2019-11-17 17:43:08|      view|  26400643|2053013563651392361|         NULL|lucente|224.46|518055684|344a3904-22ef-427...|    2019-11-17|      17:43:08|   2019_nov|\n",
      "|2019-11-17 17:43:09|      view|  26400790|2053013563651392361|         NULL|lucente|295.76|536689953|e4b3624e-2ad5-4a4...|    2019-11-17|      17:43:09|   2019_nov|\n",
      "|2019-11-17 17:43:11|      view|  26500136|2053013563550729061|         NULL|lucente| 91.38|527796278|2df96f32-05b4-4e6...|    2019-11-17|      17:43:11|   2019_nov|\n",
      "|2019-11-17 17:43:11|      view|  26401457|2053013563651392361|         NULL|lucente|114.55|542571851|1392a946-f419-436...|    2019-11-17|      17:43:11|   2019_nov|\n",
      "|2019-11-17 17:43:12|      view|  26403194|2053013563651392361|         NULL|lucente|342.61|547168075|1e2495bc-36e9-452...|    2019-11-17|      17:43:12|   2019_nov|\n",
      "|2019-11-17 17:43:12|      view|  26203748|2053013563693335403|         NULL|lucente|149.04|514911024|b3cbb161-0e85-4d8...|    2019-11-17|      17:43:12|   2019_nov|\n",
      "|2019-11-17 17:43:12|      view|  26500142|2053013563550729061|         NULL|lucente|234.76|514929163|f77c9416-abd5-47a...|    2019-11-17|      17:43:12|   2019_nov|\n",
      "|2019-11-17 17:43:13|      view|  26300102|2053013563584283495|         NULL|lucente|185.59|517675548|3e041bae-8d7b-45b...|    2019-11-17|      17:43:13|   2019_nov|\n",
      "|2019-11-17 17:43:13|      view|  26300102|2053013563584283495|         NULL|lucente|185.59|512898815|ea4b9ca1-1284-48f...|    2019-11-17|      17:43:13|   2019_nov|\n",
      "|2019-11-17 17:43:14|      view|  26500141|2053013563550729061|         NULL|lucente|186.11|516396070|c7378f69-e85d-49e...|    2019-11-17|      17:43:14|   2019_nov|\n",
      "|2019-11-17 17:43:14|      view|  26401450|2053013563651392361|         NULL|lucente| 63.32|515649775|35c1e1c6-933c-4a5...|    2019-11-17|      17:43:14|   2019_nov|\n",
      "|2019-11-17 17:43:14|      view|  26400672|2053013563651392361|         NULL|lucente|385.85|571686563|93f7889e-94bd-49b...|    2019-11-17|      17:43:14|   2019_nov|\n",
      "+-------------------+----------+----------+-------------------+-------------+-------+------+---------+--------------------+--------------+--------------+-----------+\n",
      "only showing top 20 rows\n",
      "\n"
     ]
    }
   ],
   "source": [
    "parquet_df.filter(parquet_df.brand == \"lucente\").show()"
   ]
  },
  {
   "cell_type": "code",
   "execution_count": null,
   "metadata": {},
   "outputs": [
    {
     "name": "stdout",
     "output_type": "stream",
     "text": [
      "+-------------------+----------+----------+-------------------+-------------+-------+------+---------+--------------------+--------------+--------------+-----------+\n",
      "|         event_time|event_type|product_id|        category_id|category_code|  brand| price|  user_id|        user_session|event_time_ymd|event_time_hms|source_file|\n",
      "+-------------------+----------+----------+-------------------+-------------+-------+------+---------+--------------------+--------------+--------------+-----------+\n",
      "|2019-11-17 17:43:00|      view|  26400266|2053013563651392361|         NULL|lucente|119.18|572211322|8e6c63f8-7f34-48b...|    2019-11-17|      17:43:00|   2019_nov|\n",
      "|2019-11-17 17:43:00|      view|  26203739|2053013563693335403|         NULL|lucente|158.56|527083517|e6bf2cdb-778f-44a...|    2019-11-17|      17:43:00|   2019_nov|\n",
      "|2019-11-17 17:43:01|      cart|  26500142|2053013563550729061|         NULL|lucente|234.76|514929163|f77c9416-abd5-47a...|    2019-11-17|      17:43:01|   2019_nov|\n",
      "|2019-11-17 17:43:02|      view|  26401450|2053013563651392361|         NULL|lucente| 63.32|522234566|f4257987-2212-4ad...|    2019-11-17|      17:43:02|   2019_nov|\n",
      "|2019-11-17 17:43:03|      view|  26300100|2053013563584283495|         NULL|lucente|155.47|572456471|dd319309-fbf1-411...|    2019-11-17|      17:43:03|   2019_nov|\n",
      "|2019-11-17 17:43:04|      view|  26500148|2053013563550729061|         NULL|lucente| 293.7|533966254|3de1ea8c-22f1-4fa...|    2019-11-17|      17:43:04|   2019_nov|\n",
      "|2019-11-17 17:43:05|      view|  26300102|2053013563584283495|         NULL|lucente|185.59|545345897|eb850836-bb56-467...|    2019-11-17|      17:43:05|   2019_nov|\n",
      "|2019-11-17 17:43:08|      view|  26402365|2053013563651392361|         NULL|lucente|103.73|539295987|e649865c-2440-4a2...|    2019-11-17|      17:43:08|   2019_nov|\n",
      "|2019-11-17 17:43:08|      view|  26400643|2053013563651392361|         NULL|lucente|224.46|518055684|344a3904-22ef-427...|    2019-11-17|      17:43:08|   2019_nov|\n",
      "|2019-11-17 17:43:09|      view|  26400790|2053013563651392361|         NULL|lucente|295.76|536689953|e4b3624e-2ad5-4a4...|    2019-11-17|      17:43:09|   2019_nov|\n",
      "|2019-11-17 17:43:11|      view|  26500136|2053013563550729061|         NULL|lucente| 91.38|527796278|2df96f32-05b4-4e6...|    2019-11-17|      17:43:11|   2019_nov|\n",
      "|2019-11-17 17:43:11|      view|  26401457|2053013563651392361|         NULL|lucente|114.55|542571851|1392a946-f419-436...|    2019-11-17|      17:43:11|   2019_nov|\n",
      "|2019-11-17 17:43:12|      view|  26403194|2053013563651392361|         NULL|lucente|342.61|547168075|1e2495bc-36e9-452...|    2019-11-17|      17:43:12|   2019_nov|\n",
      "|2019-11-17 17:43:12|      view|  26203748|2053013563693335403|         NULL|lucente|149.04|514911024|b3cbb161-0e85-4d8...|    2019-11-17|      17:43:12|   2019_nov|\n",
      "|2019-11-17 17:43:12|      view|  26500142|2053013563550729061|         NULL|lucente|234.76|514929163|f77c9416-abd5-47a...|    2019-11-17|      17:43:12|   2019_nov|\n",
      "|2019-11-17 17:43:13|      view|  26300102|2053013563584283495|         NULL|lucente|185.59|517675548|3e041bae-8d7b-45b...|    2019-11-17|      17:43:13|   2019_nov|\n",
      "|2019-11-17 17:43:13|      view|  26300102|2053013563584283495|         NULL|lucente|185.59|512898815|ea4b9ca1-1284-48f...|    2019-11-17|      17:43:13|   2019_nov|\n",
      "|2019-11-17 17:43:14|      view|  26500141|2053013563550729061|         NULL|lucente|186.11|516396070|c7378f69-e85d-49e...|    2019-11-17|      17:43:14|   2019_nov|\n",
      "|2019-11-17 17:43:14|      view|  26401450|2053013563651392361|         NULL|lucente| 63.32|515649775|35c1e1c6-933c-4a5...|    2019-11-17|      17:43:14|   2019_nov|\n",
      "|2019-11-17 17:43:14|      view|  26400672|2053013563651392361|         NULL|lucente|385.85|571686563|93f7889e-94bd-49b...|    2019-11-17|      17:43:14|   2019_nov|\n",
      "+-------------------+----------+----------+-------------------+-------------+-------+------+---------+--------------------+--------------+--------------+-----------+\n",
      "only showing top 20 rows\n",
      "\n"
     ]
    }
   ],
   "source": [
    "parquet_df.filter((parquet_df.brand == \"lucente\") & (parquet_df.category_code.isNull())).show()"
   ]
  },
  {
   "cell_type": "code",
   "execution_count": 11,
   "metadata": {},
   "outputs": [
    {
     "name": "stdout",
     "output_type": "stream",
     "text": [
      "+-------------------+----------+----------+-------------------+--------------------+-------+------+---------+--------------------+--------------+--------------+-----------+\n",
      "|         event_time|event_type|product_id|        category_id|       category_code|  brand| price|  user_id|        user_session|event_time_ymd|event_time_hms|source_file|\n",
      "+-------------------+----------+----------+-------------------+--------------------+-------+------+---------+--------------------+--------------+--------------+-----------+\n",
      "|2019-12-18 18:58:38|      view|  26400647|2053013553056579841|computers.periphe...|lucente|309.66|588751816|fd905b3f-e928-479...|    2019-12-18|      18:58:38|   2019_dec|\n",
      "|2019-12-18 18:58:39|      view|  26400266|2053013553056579841|computers.periphe...|lucente|115.83|518170648|1eb255a5-375e-4c5...|    2019-12-18|      18:58:39|   2019_dec|\n",
      "|2019-12-18 18:58:39|      view|  26500142|2053013553140465927|           kids.toys|lucente|231.15|518868979|86b9a7d4-835b-4f5...|    2019-12-18|      18:58:39|   2019_dec|\n",
      "|2019-12-18 18:58:40|  purchase|  26500136|2053013553140465927|           kids.toys|lucente| 90.09|547916031|f7d4db71-147e-4dd...|    2019-12-18|      18:58:40|   2019_dec|\n",
      "|2019-12-18 18:58:40|      view|  26500135|2053013553140465927|           kids.toys|lucente|  87.0|571398634|5f85fbb9-b8c8-4f9...|    2019-12-18|      18:58:40|   2019_dec|\n",
      "|2019-12-18 18:58:40|      view|  26400316|2053013554725912943|appliances.kitche...|lucente|158.31|586140293|1fe68e3f-d56d-49c...|    2019-12-18|      18:58:40|   2019_dec|\n",
      "|2019-12-18 18:58:41|      view|  26400328|2053013553056579841|computers.periphe...|lucente|172.72|516859242|4e81a1c4-87b6-4d4...|    2019-12-18|      18:58:41|   2019_dec|\n",
      "|2019-12-18 18:58:41|      view|  26500139|2053013553140465927|           kids.toys|lucente|175.55|542879997|d2d37cc2-dd0a-4ef...|    2019-12-18|      18:58:41|   2019_dec|\n",
      "|2019-12-18 18:58:41|      view|  26402785|2053013553056579841|computers.periphe...|lucente|401.55|572852965|7f30a45f-f652-40f...|    2019-12-18|      18:58:41|   2019_dec|\n",
      "|2019-12-18 18:58:41|      view|  26300187|2053013554725912943|appliances.kitche...|lucente|625.24|573148336|92aebde2-ceff-4bd...|    2019-12-18|      18:58:41|   2019_dec|\n",
      "|2019-12-18 18:58:42|      view|  26300190|2053013554725912943|appliances.kitche...|lucente|381.73|516066893|09d624d3-b8b8-4a0...|    2019-12-18|      18:58:42|   2019_dec|\n",
      "|2019-12-18 18:58:42|  purchase|  26500315|2053013553140465927|           kids.toys|lucente|161.91|525078602|cc7cfd2d-1eda-46d...|    2019-12-18|      18:58:42|   2019_dec|\n",
      "|2019-12-18 18:58:43|      view|  26400266|2053013553056579841|computers.periphe...|lucente|115.83|537438853|b1d534bc-7b72-473...|    2019-12-18|      18:58:43|   2019_dec|\n",
      "|2019-12-18 18:58:46|      view|  26200992|2232732081585127530|construction.comp...|lucente|114.29|512885716|f93cb456-1c25-487...|    2019-12-18|      18:58:46|   2019_dec|\n",
      "|2019-12-18 18:58:46|      view|  26300076|2053013554725912943|appliances.kitche...|lucente|220.08|524906966|bb434d99-be6f-45a...|    2019-12-18|      18:58:46|   2019_dec|\n",
      "|2019-12-18 18:58:46|      view|  26300094|2053013554725912943|appliances.kitche...|lucente|563.21|588101106|b09b601e-3193-4b4...|    2019-12-18|      18:58:46|   2019_dec|\n",
      "|2019-12-18 18:58:47|      view|  26203734|2232732081585127530|construction.comp...|lucente|149.55|512752852|af49d3d0-98c8-4f6...|    2019-12-18|      18:58:47|   2019_dec|\n",
      "|2019-12-18 18:58:47|      view|  26200992|2232732081585127530|construction.comp...|lucente|114.29|522005715|d2d90d3f-8c21-474...|    2019-12-18|      18:58:47|   2019_dec|\n",
      "|2019-12-18 18:58:47|      view|  26500135|2053013553140465927|           kids.toys|lucente|  87.0|542879997|d2d37cc2-dd0a-4ef...|    2019-12-18|      18:58:47|   2019_dec|\n",
      "|2019-12-18 18:58:47|      view|  26300083|2053013554725912943|appliances.kitche...|lucente|454.58|588607126|2d45f19b-1fbb-413...|    2019-12-18|      18:58:47|   2019_dec|\n",
      "+-------------------+----------+----------+-------------------+--------------------+-------+------+---------+--------------------+--------------+--------------+-----------+\n",
      "only showing top 20 rows\n",
      "\n"
     ]
    }
   ],
   "source": [
    "parquet_df.filter((parquet_df.brand == \"lucente\") & (parquet_df.category_code.isNotNull())).show()"
   ]
  },
  {
   "cell_type": "code",
   "execution_count": 18,
   "metadata": {},
   "outputs": [
    {
     "name": "stdout",
     "output_type": "stream",
     "text": [
      "+-------------------+----------+----------+-------------------+-------------+------------+------+---------+--------------------+--------------+--------------+-----------+\n",
      "|         event_time|event_type|product_id|        category_id|category_code|       brand| price|  user_id|        user_session|event_time_ymd|event_time_hms|source_file|\n",
      "+-------------------+----------+----------+-------------------+-------------+------------+------+---------+--------------------+--------------+--------------+-----------+\n",
      "|2019-12-18 19:00:21|      view|  26500624|2053013563550729061|    sport.ski|        NULL|424.32|551283194|c0610e1a-8e32-451...|    2019-12-18|      19:00:21|   2019_dec|\n",
      "|2019-12-18 19:01:25|      view|  26500661|2053013563550729061|    sport.ski|     lucente|103.22|525126283|8ad92c9b-2540-41f...|    2019-12-18|      19:01:25|   2019_dec|\n",
      "|2019-12-18 19:01:31|      view|  26500113|2053013563550729061|    sport.ski|     lucente| 56.63|525126283|8ad92c9b-2540-41f...|    2019-12-18|      19:01:31|   2019_dec|\n",
      "|2019-12-18 19:01:58|      view|  26500113|2053013563550729061|    sport.ski|     lucente| 56.63|525126283|8ad92c9b-2540-41f...|    2019-12-18|      19:01:58|   2019_dec|\n",
      "|2019-12-18 19:02:50|      view|  26500037|2053013563550729061|    sport.ski|        vega| 11.58|514703722|752458a3-a222-455...|    2019-12-18|      19:02:50|   2019_dec|\n",
      "|2019-12-18 19:03:17|      view| 100029625|2053013563550729061|    sport.ski|     sokolov| 25.61|528399586|2b1a2969-f95f-410...|    2019-12-18|      19:03:17|   2019_dec|\n",
      "|2019-12-18 19:03:54|      view|  26500659|2053013563550729061|    sport.ski|     lucente|157.28|551283194|c0610e1a-8e32-451...|    2019-12-18|      19:03:54|   2019_dec|\n",
      "|2019-12-18 19:04:08|      view|  26500114|2053013563550729061|    sport.ski|     lucente|  55.6|526604562|369cbef4-8db5-4f2...|    2019-12-18|      19:04:08|   2019_dec|\n",
      "|2019-12-18 19:04:44|      view|  26500500|2053013563550729061|    sport.ski|        vega| 25.48|551283194|c0610e1a-8e32-451...|    2019-12-18|      19:04:44|   2019_dec|\n",
      "|2019-12-18 19:05:47|      view|  26500703|2053013563550729061|    sport.ski|robertobravo|572.22|519414285|290db9d4-d81e-493...|    2019-12-18|      19:05:47|   2019_dec|\n",
      "|2019-12-18 19:06:21|      view|  26500661|2053013563550729061|    sport.ski|     lucente|103.22|553644526|8ebdf38b-e25c-481...|    2019-12-18|      19:06:21|   2019_dec|\n",
      "|2019-12-18 19:06:31|      view|  26500703|2053013563550729061|    sport.ski|robertobravo|572.22|519414285|290db9d4-d81e-493...|    2019-12-18|      19:06:31|   2019_dec|\n",
      "|2019-12-18 19:06:37|      view|  26500697|2053013563550729061|    sport.ski|        jade| 64.35|515368250|c72d1e62-8cf7-49d...|    2019-12-18|      19:06:37|   2019_dec|\n",
      "|2019-12-18 19:06:49|      view|  26500703|2053013563550729061|    sport.ski|robertobravo|572.22|519414285|290db9d4-d81e-493...|    2019-12-18|      19:06:49|   2019_dec|\n",
      "|2019-12-18 19:06:55|      cart|  26500703|2053013563550729061|    sport.ski|robertobravo|572.22|519414285|290db9d4-d81e-493...|    2019-12-18|      19:06:55|   2019_dec|\n",
      "|2019-12-18 19:06:59|      view| 100029625|2053013563550729061|    sport.ski|     sokolov| 25.61|529854560|05631c97-2481-4d2...|    2019-12-18|      19:06:59|   2019_dec|\n",
      "|2019-12-18 19:07:07|      view|  26500703|2053013563550729061|    sport.ski|robertobravo|572.22|519414285|290db9d4-d81e-493...|    2019-12-18|      19:07:07|   2019_dec|\n",
      "|2019-12-18 19:07:50|      view|  26500452|2053013563550729061|    sport.ski|        NULL|  26.0|514963830|62c78654-fa44-4f3...|    2019-12-18|      19:07:50|   2019_dec|\n",
      "|2019-12-18 19:08:59|      view|  26500227|2053013563550729061|    sport.ski|  trollbeads|120.47|551283194|c0610e1a-8e32-451...|    2019-12-18|      19:08:59|   2019_dec|\n",
      "|2019-12-18 19:10:26|      view|  26500576|2053013563550729061|    sport.ski|        jade|496.23|551283194|c0610e1a-8e32-451...|    2019-12-18|      19:10:26|   2019_dec|\n",
      "+-------------------+----------+----------+-------------------+-------------+------------+------+---------+--------------------+--------------+--------------+-----------+\n",
      "only showing top 20 rows\n",
      "\n"
     ]
    }
   ],
   "source": [
    "parquet_df.filter((parquet_df.category_id == 2053013563550729061) & (parquet_df.category_code.isNotNull())).show()"
   ]
  },
  {
   "cell_type": "code",
   "execution_count": 19,
   "metadata": {},
   "outputs": [
    {
     "name": "stdout",
     "output_type": "stream",
     "text": [
      "+-------------------+----------+----------+-------------------+-------------+-------+------+---------+--------------------+--------------+--------------+-----------+\n",
      "|         event_time|event_type|product_id|        category_id|category_code|  brand| price|  user_id|        user_session|event_time_ymd|event_time_hms|source_file|\n",
      "+-------------------+----------+----------+-------------------+-------------+-------+------+---------+--------------------+--------------+--------------+-----------+\n",
      "|2019-11-17 17:43:01|      cart|  26500142|2053013563550729061|         NULL|lucente|234.76|514929163|f77c9416-abd5-47a...|    2019-11-17|      17:43:01|   2019_nov|\n",
      "|2019-11-17 17:43:04|      view|  26500148|2053013563550729061|         NULL|lucente| 293.7|533966254|3de1ea8c-22f1-4fa...|    2019-11-17|      17:43:04|   2019_nov|\n",
      "|2019-11-17 17:43:11|      view|  26500136|2053013563550729061|         NULL|lucente| 91.38|527796278|2df96f32-05b4-4e6...|    2019-11-17|      17:43:11|   2019_nov|\n",
      "|2019-11-17 17:43:12|      view|  26500142|2053013563550729061|         NULL|lucente|234.76|514929163|f77c9416-abd5-47a...|    2019-11-17|      17:43:12|   2019_nov|\n",
      "|2019-11-17 17:43:14|      view|  26500141|2053013563550729061|         NULL|lucente|186.11|516396070|c7378f69-e85d-49e...|    2019-11-17|      17:43:14|   2019_nov|\n",
      "|2019-11-17 17:43:21|      view|  26500318|2053013563550729061|         NULL|lucente| 25.48|562687986|3520d922-3851-441...|    2019-11-17|      17:43:21|   2019_nov|\n",
      "|2019-11-17 17:43:26|      view|  26500132|2053013563550729061|         NULL|lucente|109.91|565255409|5c2101d8-ffb0-4fe...|    2019-11-17|      17:43:26|   2019_nov|\n",
      "|2019-11-17 17:43:35|      view|  26500139|2053013563550729061|         NULL|lucente|167.57|540863903|d8ea2bdb-8786-4e3...|    2019-11-17|      17:43:35|   2019_nov|\n",
      "|2019-11-17 17:43:35|      view|  26500672|2053013563550729061|         NULL|sokolov| 46.85|522980242|f530d7e9-a16c-4f0...|    2019-11-17|      17:43:35|   2019_nov|\n",
      "|2019-11-17 17:43:37|      view|  26500134|2053013563550729061|         NULL|lucente| 86.49|526507924|e73c1c43-43f3-4ef...|    2019-11-17|      17:43:37|   2019_nov|\n",
      "|2019-11-17 17:43:38|      view|  26500141|2053013563550729061|         NULL|lucente|186.11|522360787|f75199aa-13b3-457...|    2019-11-17|      17:43:38|   2019_nov|\n",
      "|2019-11-17 17:43:43|      view|  26500141|2053013563550729061|         NULL|lucente|186.11|549053675|c5a64771-110f-445...|    2019-11-17|      17:43:43|   2019_nov|\n",
      "|2019-11-17 17:43:47|      view|  26500137|2053013563550729061|         NULL|lucente|122.01|513879255|5ad4ec35-d775-46c...|    2019-11-17|      17:43:47|   2019_nov|\n",
      "|2019-11-17 17:43:54|      view|  26500136|2053013563550729061|         NULL|lucente| 91.38|540863903|d8ea2bdb-8786-4e3...|    2019-11-17|      17:43:54|   2019_nov|\n",
      "|2019-11-17 17:43:54|      view|  26500140|2053013563550729061|         NULL|lucente|174.26|522360787|f75199aa-13b3-457...|    2019-11-17|      17:43:54|   2019_nov|\n",
      "|2019-11-17 17:43:57|      view|  26500148|2053013563550729061|         NULL|lucente| 293.7|512898815|ea4b9ca1-1284-48f...|    2019-11-17|      17:43:57|   2019_nov|\n",
      "|2019-11-17 17:44:00|      view|  26500120|2053013563550729061|         NULL|lucente| 94.73|526507924|e73c1c43-43f3-4ef...|    2019-11-17|      17:44:00|   2019_nov|\n",
      "|2019-11-17 17:44:02|      view|  26500139|2053013563550729061|         NULL|lucente|167.57|519248567|2918a5bd-1ddb-4b7...|    2019-11-17|      17:44:02|   2019_nov|\n",
      "|2019-11-17 17:44:06|      view|  26500139|2053013563550729061|         NULL|lucente|167.57|561062240|6220bd75-4a10-4ca...|    2019-11-17|      17:44:06|   2019_nov|\n",
      "|2019-11-17 17:44:06|      view|  26500145|2053013563550729061|         NULL|lucente| 69.24|540748871|eb337dbe-f2af-4c8...|    2019-11-17|      17:44:06|   2019_nov|\n",
      "+-------------------+----------+----------+-------------------+-------------+-------+------+---------+--------------------+--------------+--------------+-----------+\n",
      "only showing top 20 rows\n",
      "\n"
     ]
    }
   ],
   "source": [
    "parquet_df.filter((parquet_df.category_id == 2053013563550729061) & (parquet_df.category_code.isNull())).show()"
   ]
  },
  {
   "cell_type": "code",
   "execution_count": 22,
   "metadata": {},
   "outputs": [
    {
     "name": "stdout",
     "output_type": "stream",
     "text": [
      "+------------------+------+-------+\n",
      "|             brand| count|percent|\n",
      "+------------------+------+-------+\n",
      "|           lucente|284181|  62.16|\n",
      "|              NULL| 68704|  15.03|\n",
      "|              vega| 31259|   6.84|\n",
      "|              jade| 24155|   5.28|\n",
      "|           sokolov| 13185|   2.88|\n",
      "|        trollbeads|  9597|    2.1|\n",
      "|             alkor|  6004|   1.31|\n",
      "|      robertobravo|  5130|   1.12|\n",
      "|          dinastia|  3572|   0.78|\n",
      "|             teosa|  3502|   0.77|\n",
      "|            adamas|  2681|   0.59|\n",
      "|          merelani|  1528|   0.33|\n",
      "|             elite|  1293|   0.28|\n",
      "|             riche|   906|    0.2|\n",
      "|        aquamarine|   258|   0.06|\n",
      "|          babyline|   250|   0.05|\n",
      "|likatoprofessional|   229|   0.05|\n",
      "|        xjewellery|   154|   0.03|\n",
      "|               qvs|   124|   0.03|\n",
      "|     lucentesilver|   114|   0.02|\n",
      "+------------------+------+-------+\n",
      "only showing top 20 rows\n",
      "\n"
     ]
    }
   ],
   "source": [
    "# 특정 category_id 데이터 필터링 후 브랜드별 개수 계산\n",
    "filtered_counts = (\n",
    "    parquet_df\n",
    "    .filter(col(\"category_id\") == 2053013563550729061)  # 특정 category_id 필터링\n",
    "    .groupBy(\"brand\")  # brand별 그룹화\n",
    "    .agg(count(\"*\").alias(\"count\"))  # 개수 계산\n",
    ")\n",
    "\n",
    "# 전체 개수 계산 (각 브랜드 개수의 총합)\n",
    "total_count = filtered_counts.agg(sum(\"count\").alias(\"total\")).collect()[0][\"total\"]\n",
    "\n",
    "# 각 브랜드별 비율 추가\n",
    "filtered_counts = (\n",
    "    filtered_counts\n",
    "    .withColumn(\"percent\", round((col(\"count\") / total_count) * 100, 2))  # 비율 계산 및 반올림\n",
    "    .orderBy(col(\"count\").desc())  # 개수 기준 내림차순 정렬\n",
    ")\n",
    "\n",
    "# 결과 출력\n",
    "filtered_counts.show()"
   ]
  },
  {
   "cell_type": "code",
   "execution_count": 7,
   "metadata": {},
   "outputs": [
    {
     "name": "stdout",
     "output_type": "stream",
     "text": [
      "+-------------+------+-------+\n",
      "|category_code| count|percent|\n",
      "+-------------+------+-------+\n",
      "|         NULL|393632|   86.1|\n",
      "|    sport.ski| 63530|   13.9|\n",
      "+-------------+------+-------+\n",
      "\n"
     ]
    }
   ],
   "source": [
    "# 특정 category_id 데이터 필터링 후 브랜드별 개수 계산\n",
    "filtered_counts = (\n",
    "    parquet_df\n",
    "    .filter(col(\"category_id\") == 2053013563550729061)  # 특정 category_id 필터링\n",
    "    .groupBy(\"category_code\")  # brand별 그룹화\n",
    "    .agg(count(\"*\").alias(\"count\"))  # 개수 계산\n",
    ")\n",
    "\n",
    "# 전체 개수 계산 (각 브랜드 개수의 총합)\n",
    "total_count = filtered_counts.agg(sum(\"count\").alias(\"total\")).collect()[0][\"total\"]\n",
    "\n",
    "# 각 브랜드별 비율 추가\n",
    "filtered_counts = (\n",
    "    filtered_counts\n",
    "    .withColumn(\"percent\", round((col(\"count\") / total_count) * 100, 2))  # 비율 계산 및 반올림\n",
    "    .orderBy(col(\"count\").desc())  # 개수 기준 내림차순 정렬\n",
    ")\n",
    "\n",
    "# 결과 출력\n",
    "filtered_counts.show()"
   ]
  },
  {
   "cell_type": "markdown",
   "metadata": {},
   "source": [
    "## 3. 결측치 처리"
   ]
  },
  {
   "cell_type": "markdown",
   "metadata": {},
   "source": [
    "### 3-1. category_code\n",
    "- `category_id`는 존재하지만, `category_code`는 결측치인 경우\n",
    "- `category_id`는 하나의 `category_code`에 부여된다\n",
    "    - 동일한 `category_id`인데 `category_code`에 값이 들어가 있는 경우, 해당 값으로 결측치 대체"
   ]
  },
  {
   "cell_type": "code",
   "execution_count": null,
   "metadata": {},
   "outputs": [
    {
     "name": "stdout",
     "output_type": "stream",
     "text": [
      "+-----------+-------------------+\n",
      "|category_id|category_code_count|\n",
      "+-----------+-------------------+\n",
      "+-----------+-------------------+\n",
      "\n"
     ]
    }
   ],
   "source": [
    "# category_id 별로 category_code를 count\n",
    "# Null 값을 포함하여 counting 한다 (coalesce() 사용)\n",
    "# e.g. category_code = NULL, sport.ski → 2개\n",
    "category_code_counts = (\n",
    "    parquet_df\n",
    "    .groupBy(\"category_id\")\n",
    "    .agg(countDistinct(coalesce(col(\"category_code\"), lit(\"NULL\"))).alias(\"category_code_count\"))\n",
    "    .filter(col(\"category_code_count\") > 2)  # category_code가 3개 이상인 경우만 필터링\n",
    ")\n",
    "\n",
    "category_code_counts.show()\n",
    "\n",
    "# category_code가 3개 이상인 경우는 없다\n",
    "# category_code는 최대 2개 존재 (원래 값, NULL)"
   ]
  },
  {
   "cell_type": "code",
   "execution_count": 5,
   "metadata": {},
   "outputs": [
    {
     "name": "stdout",
     "output_type": "stream",
     "text": [
      "+-------------------+-------------------+----------+----------+--------------------+---------+-------+---------+--------------------+--------------+--------------+-----------+\n",
      "|        category_id|         event_time|event_type|product_id|       category_code|    brand|  price|  user_id|        user_session|event_time_ymd|event_time_hms|source_file|\n",
      "+-------------------+-------------------+----------+----------+--------------------+---------+-------+---------+--------------------+--------------+--------------+-----------+\n",
      "|2053013563944993659|2019-11-17 17:43:00|      view|   4600560|appliances.kitche...|     beko|  412.4|522329355|dce61941-af79-4fd...|    2019-11-17|      17:43:00|   2019_nov|\n",
      "|2053013566209917945|2019-11-17 17:43:00|      view|  28401077|     accessories.bag|  respect|   39.9|512757661|4c6f8f63-a612-4c5...|    2019-11-17|      17:43:00|   2019_nov|\n",
      "|2053013555631882655|2019-11-17 17:43:00|      view|   1004659|electronics.smart...|  samsung| 762.18|512965259|2981c9f9-3905-49d...|    2019-11-17|      17:43:00|   2019_nov|\n",
      "|2053013555631882655|2019-11-17 17:43:00|      view|   1004856|electronics.smart...|  samsung| 128.42|572486931|55e4ac09-1cec-446...|    2019-11-17|      17:43:00|   2019_nov|\n",
      "|2053013555631882655|2019-11-17 17:43:00|      view|   1005021|electronics.smart...|     oppo| 386.08|512887550|3c3af822-9816-434...|    2019-11-17|      17:43:00|   2019_nov|\n",
      "|2053013555631882655|2019-11-17 17:43:00|  purchase|   1004249|electronics.smart...|    apple| 765.79|562839858|98c3adb8-a028-4e8...|    2019-11-17|      17:43:00|   2019_nov|\n",
      "|2053013555631882655|2019-11-17 17:43:00|      view|   1005253|electronics.smart...|   xiaomi| 288.04|516404307|a383cb03-2673-446...|    2019-11-17|      17:43:00|   2019_nov|\n",
      "|2053013565228450757|2019-11-17 17:43:00|      view|  28716993|       apparel.shoes|  respect|  82.63|524048356|a2a0497c-59a9-4d4...|    2019-11-17|      17:43:00|   2019_nov|\n",
      "|2053013564003713919|2019-11-17 17:43:00|      view|   2501799|appliances.kitche...| elenberg|  46.31|563237118|4368d099-6d19-47c...|    2019-11-17|      17:43:00|   2019_nov|\n",
      "|2053013560346280633|2019-11-17 17:43:00|  purchase|   7002255|       kids.carriage|wingoffly| 113.77|517821629|94575067-317d-4ec...|    2019-11-17|      17:43:00|   2019_nov|\n",
      "|2053013555355058573|2019-11-17 17:43:00|      view|   3300349|                NULL|  redmond|  73.34|566506783|3835f9bf-750b-46a...|    2019-11-17|      17:43:00|   2019_nov|\n",
      "|2053013554415534427|2019-11-17 17:43:00|      view|   1801940|electronics.video.tv|    haier| 231.64|551704382|8e617209-f000-47a...|    2019-11-17|      17:43:00|   2019_nov|\n",
      "|2053013563651392361|2019-11-17 17:43:00|      view|  26400266|                NULL|  lucente| 119.18|572211322|8e6c63f8-7f34-48b...|    2019-11-17|      17:43:00|   2019_nov|\n",
      "|2053013565983425517|2019-11-17 17:43:00|      view|   3701538|appliances.enviro...|   irobot|1878.81|539845715|bf7d95c0-69e1-40f...|    2019-11-17|      17:43:00|   2019_nov|\n",
      "|2053013565983425517|2019-11-17 17:43:00|      view|   3701428|appliances.enviro...|   arnica|  68.59|572271574|7b9040ab-2524-4d6...|    2019-11-17|      17:43:00|   2019_nov|\n",
      "|2053013565983425517|2019-11-17 17:43:00|      view|   3700668|appliances.enviro...|  karcher| 100.36|566321810|2df73792-b808-486...|    2019-11-17|      17:43:00|   2019_nov|\n",
      "|2053013563693335403|2019-11-17 17:43:00|      view|  26203739|           sport.ski|  lucente| 158.56|527083517|e6bf2cdb-778f-44a...|    2019-11-17|      17:43:00|   2019_nov|\n",
      "|2053013552427434207|2019-11-17 17:43:00|      view|  22300011|       apparel.shirt|    apple| 200.52|572444775|e13be654-ddef-4a7...|    2019-11-17|      17:43:00|   2019_nov|\n",
      "|2053013554121933129|2019-11-17 17:43:00|      view|   6400335|computers.compone...|    intel| 435.28|551129779|4db2c365-ee85-443...|    2019-11-17|      17:43:00|   2019_nov|\n",
      "|2053013553559896355|2019-11-17 17:43:00|      view|  12709556|                NULL|   viatti|  40.16|546204388|86e071a9-b9d2-47e...|    2019-11-17|      17:43:00|   2019_nov|\n",
      "+-------------------+-------------------+----------+----------+--------------------+---------+-------+---------+--------------------+--------------+--------------+-----------+\n",
      "only showing top 20 rows\n",
      "\n"
     ]
    }
   ],
   "source": [
    "# 1. category_id별로 NULL이 아닌 첫 번째 category_code 값을 가져오기\n",
    "filled_category_codes = (\n",
    "    parquet_df\n",
    "    .filter(col(\"category_code\").isNotNull())  # NULL이 아닌 값만 사용\n",
    "    .groupBy(\"category_id\")\n",
    "    .agg(first(\"category_code\").alias(\"filled_category_code\"))  # 첫 번째 category_code 값 추출\n",
    ")\n",
    "\n",
    "# 2️. 기존 데이터와 조인 후, NULL 값 채우기\n",
    "parquet_filled_cc = (\n",
    "    parquet_df\n",
    "    .join(filled_category_codes, on=\"category_id\", how=\"left\")  # 동일한 category_id를 기준으로 병합\n",
    "    .withColumn(\"category_code\", coalesce(col(\"category_code\"), col(\"filled_category_code\")))  # NULL이면 대체\n",
    "    .drop(\"filled_category_code\")  # 불필요한 컬럼 제거\n",
    ")\n",
    "\n",
    "# 3️. 결과 확인\n",
    "parquet_filled_cc.show()"
   ]
  },
  {
   "cell_type": "code",
   "execution_count": 5,
   "metadata": {},
   "outputs": [
    {
     "name": "stdout",
     "output_type": "stream",
     "text": [
      "+-----------+----------+----------+----------+-------------+--------+-----+-------+------------+--------------+--------------+-----------+\n",
      "|category_id|event_time|event_type|product_id|category_code|   brand|price|user_id|user_session|event_time_ymd|event_time_hms|source_file|\n",
      "+-----------+----------+----------+----------+-------------+--------+-----+-------+------------+--------------+--------------+-----------+\n",
      "|          0|         0|         0|         0|     42378518|55670767|    0|      0|         226|             0|             0|          0|\n",
      "+-----------+----------+----------+----------+-------------+--------+-----+-------+------------+--------------+--------------+-----------+\n",
      "\n"
     ]
    }
   ],
   "source": [
    "null_counts_cc_filled = parquet_filled_cc.select(\n",
    "    [F.count(F.when(F.col(c).isNull(), c)).alias(c) for c in parquet_filled.columns]\n",
    ")\n",
    "null_counts_cc_filled.show()"
   ]
  },
  {
   "cell_type": "code",
   "execution_count": null,
   "metadata": {},
   "outputs": [],
   "source": [
    "# 이 밑으로는 지우기"
   ]
  },
  {
   "cell_type": "code",
   "execution_count": 14,
   "metadata": {},
   "outputs": [],
   "source": [
    "# 1. category_id별로 NULL이 아닌 첫 번째 category_code 값을 가져오기\n",
    "filled_category_codes = (\n",
    "    oct_df\n",
    "    .filter(col(\"category_code\").isNotNull())  # NULL이 아닌 값만 사용\n",
    "    .groupBy(\"category_id\")\n",
    "    .agg(first(\"category_code\").alias(\"filled_category_code\"))  # 첫 번째 category_code 값 추출\n",
    ")\n",
    "\n",
    "# 2️. 기존 데이터와 조인 후, NULL 값 채우기\n",
    "parquet_filled_oct = (\n",
    "    oct_df\n",
    "    .join(filled_category_codes, on=\"category_id\", how=\"left\")  # 동일한 category_id를 기준으로 병합\n",
    "    .withColumn(\"category_code\", coalesce(col(\"category_code\"), col(\"filled_category_code\")))  # NULL이면 대체\n",
    "    .drop(\"filled_category_code\")  # 불필요한 컬럼 제거\n",
    ")\n",
    "\n",
    "# 3️. 결과 확인\n",
    "# parquet_filled_oct.show()"
   ]
  },
  {
   "cell_type": "code",
   "execution_count": 15,
   "metadata": {},
   "outputs": [
    {
     "name": "stdout",
     "output_type": "stream",
     "text": [
      "+-----------+----------+----------+----------+-------------+-------+-----+-------+------------+--------------+--------------+\n",
      "|category_id|event_time|event_type|product_id|category_code|  brand|price|user_id|user_session|event_time_ymd|event_time_hms|\n",
      "+-----------+----------+----------+----------+-------------+-------+-----+-------+------------+--------------+--------------+\n",
      "|          0|         0|         0|         0|     13515609|6113008|    0|      0|           2|             0|             0|\n",
      "+-----------+----------+----------+----------+-------------+-------+-----+-------+------------+--------------+--------------+\n",
      "\n"
     ]
    }
   ],
   "source": [
    "null_counts_cc_filled = parquet_filled_oct.select(\n",
    "    [F.count(F.when(F.col(c).isNull(), c)).alias(c) for c in parquet_filled_oct.columns]\n",
    ")\n",
    "null_counts_cc_filled.show()"
   ]
  },
  {
   "cell_type": "code",
   "execution_count": 16,
   "metadata": {},
   "outputs": [],
   "source": [
    "# 1. product_id별로 NULL이 아닌 첫 번째 category_code 값을 가져오기\n",
    "filled_category_codes = (\n",
    "    oct_df\n",
    "    .filter(col(\"category_code\").isNotNull())  # NULL이 아닌 값만 사용\n",
    "    .groupBy(\"product_id\")\n",
    "    .agg(first(\"category_code\").alias(\"filled_category_code\"))  # 첫 번째 category_code 값 추출\n",
    ")\n",
    "\n",
    "# 2️. 기존 데이터와 조인 후, NULL 값 채우기\n",
    "parquet_filled_oct = (\n",
    "    oct_df\n",
    "    .join(filled_category_codes, on=\"product_id\", how=\"left\")  # 동일한 product_id를 기준으로 병합\n",
    "    .withColumn(\"category_code\", coalesce(col(\"category_code\"), col(\"filled_category_code\")))  # NULL이면 대체\n",
    "    .drop(\"filled_category_code\")  # 불필요한 컬럼 제거\n",
    ")\n",
    "\n",
    "# 3️. 결과 확인\n",
    "# parquet_filled_oct.show()"
   ]
  },
  {
   "cell_type": "code",
   "execution_count": 17,
   "metadata": {},
   "outputs": [
    {
     "name": "stdout",
     "output_type": "stream",
     "text": [
      "+----------+----------+----------+-----------+-------------+-------+-----+-------+------------+--------------+--------------+\n",
      "|product_id|event_time|event_type|category_id|category_code|  brand|price|user_id|user_session|event_time_ymd|event_time_hms|\n",
      "+----------+----------+----------+-----------+-------------+-------+-----+-------+------------+--------------+--------------+\n",
      "|         0|         0|         0|          0|     13515609|6113008|    0|      0|           2|             0|             0|\n",
      "+----------+----------+----------+-----------+-------------+-------+-----+-------+------------+--------------+--------------+\n",
      "\n"
     ]
    }
   ],
   "source": [
    "null_counts_cc_filled = parquet_filled_oct.select(\n",
    "    [F.count(F.when(F.col(c).isNull(), c)).alias(c) for c in parquet_filled_oct.columns]\n",
    ")\n",
    "null_counts_cc_filled.show()"
   ]
  },
  {
   "cell_type": "markdown",
   "metadata": {},
   "source": [
    "### 3-2. Brand\n",
    "- `product_id`는 존재하지만, `brand`는 결측치인 경우\n",
    "- 동일한 `product_id`를 사용하지만, `brand`가 여러개인 경우가 있다\n",
    "    - Null 값을 포함하여, brand가 3개이거나 4개인 `product_id`도 존재\n",
    "- `product_id`별로 가장 많이 관찰되는 `brand`로 해당 `product_id`의 brand 결측치를 대체"
   ]
  },
  {
   "cell_type": "code",
   "execution_count": 5,
   "metadata": {},
   "outputs": [
    {
     "name": "stdout",
     "output_type": "stream",
     "text": [
      "+----------+-----------+\n",
      "|product_id|brand_count|\n",
      "+----------+-----------+\n",
      "|   7204010|          4|\n",
      "|   5301778|          4|\n",
      "| 100165803|          3|\n",
      "|  27701269|          3|\n",
      "|  26800040|          3|\n",
      "|  17303216|          3|\n",
      "| 100181762|          3|\n",
      "| 100069005|          3|\n",
      "| 100021095|          3|\n",
      "|  13300909|          3|\n",
      "|  26500351|          3|\n",
      "|  17301178|          3|\n",
      "| 100148888|          3|\n",
      "|  34800369|          3|\n",
      "| 100170517|          3|\n",
      "|   4700562|          3|\n",
      "|  10701054|          3|\n",
      "|   6902632|          3|\n",
      "|  51000033|          3|\n",
      "|   1801294|          3|\n",
      "+----------+-----------+\n",
      "only showing top 20 rows\n",
      "\n"
     ]
    }
   ],
   "source": [
    "# product_id 별로 brand를 count\n",
    "# Null 값을 포함하여 counting 한다 (coalesce() 사용)\n",
    "# e.g. brand = NULL, sport.ski → 2개\n",
    "brand_counts = (\n",
    "    parquet_df\n",
    "    .groupBy(\"product_id\")\n",
    "    .agg(countDistinct(coalesce(col(\"brand\"), lit(\"NULL\"))).alias(\"brand_count\"))\n",
    "    .filter(col(\"brand_count\") > 2)  # brand가 3개 이상인 경우만 필터링\n",
    "    .orderBy(col(\"brand_count\").desc())\n",
    ")\n",
    "\n",
    "brand_counts.show()"
   ]
  },
  {
   "cell_type": "code",
   "execution_count": 22,
   "metadata": {},
   "outputs": [
    {
     "name": "stdout",
     "output_type": "stream",
     "text": [
      "+-------+-----+-------+\n",
      "|  brand|count|percent|\n",
      "+-------+-----+-------+\n",
      "|samsung|22484|  99.69|\n",
      "|   NULL|   71|   0.31|\n",
      "+-------+-----+-------+\n",
      "\n"
     ]
    }
   ],
   "source": [
    "# 특정 product_id 데이터 필터링 후 브랜드별 개수 계산\n",
    "filtered_counts_product = (\n",
    "    parquet_df\n",
    "    .filter(col(\"product_id\") == 1000978)  # 특정 product_id 필터링\n",
    "    .groupBy(\"brand\")  # brand별 그룹화\n",
    "    .agg(count(\"*\").alias(\"count\"))  # 개수 계산\n",
    ")\n",
    "\n",
    "# 전체 개수 계산 (각 브랜드 개수의 총합)\n",
    "total_count = filtered_counts_product.agg(sum(\"count\").alias(\"total\")).collect()[0][\"total\"]\n",
    "\n",
    "# 각 브랜드별 비율 추가\n",
    "filtered_counts_product = (\n",
    "    filtered_counts_product\n",
    "    .withColumn(\"percent\", round((col(\"count\") / total_count) * 100, 2))  # 비율 계산 및 반올림\n",
    "    .orderBy(col(\"count\").desc())  # 개수 기준 내림차순 정렬\n",
    ")\n",
    "\n",
    "# 결과 출력\n",
    "filtered_counts_product.show()"
   ]
  },
  {
   "cell_type": "code",
   "execution_count": null,
   "metadata": {},
   "outputs": [],
   "source": [
    "# 1. category_id별로 NULL이 아닌 첫 번째 category_code 값을 가져오기\n",
    "filled_category_codes = (\n",
    "    parquet_df\n",
    "    .filter(col(\"category_code\").isNotNull())  # NULL이 아닌 값만 사용\n",
    "    .groupBy(\"category_id\")\n",
    "    .agg(first(\"category_code\").alias(\"filled_category_code\"))  # 첫 번째 category_code 값 추출\n",
    ")\n",
    "\n",
    "# 2️. 기존 데이터와 조인 후, NULL 값 채우기\n",
    "parquet_filled_cc = (\n",
    "    parquet_df\n",
    "    .join(filled_category_codes, on=\"category_id\", how=\"left\")  # 동일한 category_id를 기준으로 병합\n",
    "    .withColumn(\"category_code\", coalesce(col(\"category_code\"), col(\"filled_category_code\")))  # NULL이면 대체\n",
    "    .drop(\"filled_category_code\")  # 불필요한 컬럼 제거\n",
    ")\n",
    "\n",
    "# 3️. 결과 확인\n",
    "parquet_filled_cc.show()"
   ]
  },
  {
   "cell_type": "code",
   "execution_count": 6,
   "metadata": {},
   "outputs": [
    {
     "name": "stdout",
     "output_type": "stream",
     "text": [
      "+----------+-------------------+-------------------+----------+--------------------+--------+-------+---------+--------------------+--------------+--------------+-----------+\n",
      "|product_id|        category_id|         event_time|event_type|       category_code|   brand|  price|  user_id|        user_session|event_time_ymd|event_time_hms|source_file|\n",
      "+----------+-------------------+-------------------+----------+--------------------+--------+-------+---------+--------------------+--------------+--------------+-----------+\n",
      "|   1005021|2053013555631882655|2019-11-17 17:43:00|      view|electronics.smart...|    oppo| 386.08|512887550|3c3af822-9816-434...|    2019-11-17|      17:43:00|   2019_nov|\n",
      "|   5700981|2053013553970938175|2019-11-17 17:43:00|      view|auto.accessories....|  alpine| 875.18|558414772|14c5b3c8-3c0a-4bd...|    2019-11-17|      17:43:00|   2019_nov|\n",
      "|   1004249|2053013555631882655|2019-11-17 17:43:00|  purchase|electronics.smart...|   apple| 765.79|562839858|98c3adb8-a028-4e8...|    2019-11-17|      17:43:00|   2019_nov|\n",
      "|   1004659|2053013555631882655|2019-11-17 17:43:00|      view|electronics.smart...| samsung| 762.18|512965259|2981c9f9-3905-49d...|    2019-11-17|      17:43:00|   2019_nov|\n",
      "|   3300349|2053013555355058573|2019-11-17 17:43:00|      view|                NULL| redmond|  73.34|566506783|3835f9bf-750b-46a...|    2019-11-17|      17:43:00|   2019_nov|\n",
      "|  26400266|2053013563651392361|2019-11-17 17:43:00|      view|                NULL| lucente| 119.18|572211322|8e6c63f8-7f34-48b...|    2019-11-17|      17:43:00|   2019_nov|\n",
      "|  26203739|2053013563693335403|2019-11-17 17:43:00|      view|           sport.ski| lucente| 158.56|527083517|e6bf2cdb-778f-44a...|    2019-11-17|      17:43:00|   2019_nov|\n",
      "|  28401077|2053013566209917945|2019-11-17 17:43:00|      view|     accessories.bag| respect|   39.9|512757661|4c6f8f63-a612-4c5...|    2019-11-17|      17:43:00|   2019_nov|\n",
      "|   3701538|2053013565983425517|2019-11-17 17:43:00|      view|appliances.enviro...|  irobot|1878.81|539845715|bf7d95c0-69e1-40f...|    2019-11-17|      17:43:00|   2019_nov|\n",
      "|   4600560|2053013563944993659|2019-11-17 17:43:00|      view|appliances.kitche...|    beko|  412.4|522329355|dce61941-af79-4fd...|    2019-11-17|      17:43:00|   2019_nov|\n",
      "|   6400335|2053013554121933129|2019-11-17 17:43:00|      view|computers.compone...|   intel| 435.28|551129779|4db2c365-ee85-443...|    2019-11-17|      17:43:00|   2019_nov|\n",
      "|  12709556|2053013553559896355|2019-11-17 17:43:00|      view|                NULL|  viatti|  40.16|546204388|86e071a9-b9d2-47e...|    2019-11-17|      17:43:00|   2019_nov|\n",
      "|   1004856|2053013555631882655|2019-11-17 17:43:00|      view|electronics.smart...| samsung| 128.42|572486931|55e4ac09-1cec-446...|    2019-11-17|      17:43:00|   2019_nov|\n",
      "|   3700668|2053013565983425517|2019-11-17 17:43:00|      view|appliances.enviro...| karcher| 100.36|566321810|2df73792-b808-486...|    2019-11-17|      17:43:00|   2019_nov|\n",
      "|  22300011|2053013552427434207|2019-11-17 17:43:00|      view|       apparel.shirt|   apple| 200.52|572444775|e13be654-ddef-4a7...|    2019-11-17|      17:43:00|   2019_nov|\n",
      "|  28716993|2053013565228450757|2019-11-17 17:43:00|      view|       apparel.shoes| respect|  82.63|524048356|a2a0497c-59a9-4d4...|    2019-11-17|      17:43:00|   2019_nov|\n",
      "|   1005253|2053013555631882655|2019-11-17 17:43:00|      view|electronics.smart...|  xiaomi| 288.04|516404307|a383cb03-2673-446...|    2019-11-17|      17:43:00|   2019_nov|\n",
      "|   1801940|2053013554415534427|2019-11-17 17:43:00|      view|electronics.video.tv|   haier| 231.64|551704382|8e617209-f000-47a...|    2019-11-17|      17:43:00|   2019_nov|\n",
      "|   2501799|2053013564003713919|2019-11-17 17:43:00|      view|appliances.kitche...|elenberg|  46.31|563237118|4368d099-6d19-47c...|    2019-11-17|      17:43:00|   2019_nov|\n",
      "|   3701428|2053013565983425517|2019-11-17 17:43:00|      view|appliances.enviro...|  arnica|  68.59|572271574|7b9040ab-2524-4d6...|    2019-11-17|      17:43:00|   2019_nov|\n",
      "+----------+-------------------+-------------------+----------+--------------------+--------+-------+---------+--------------------+--------------+--------------+-----------+\n",
      "only showing top 20 rows\n",
      "\n"
     ]
    }
   ],
   "source": [
    "# 1️. product_id별 brand 개수 세기\n",
    "brand_counts = (\n",
    "    parquet_filled_cc\n",
    "    .groupBy(\"product_id\", \"brand\")  # product_id, brand 기준으로 그룹화\n",
    "    .agg(count(\"*\").alias(\"brand_count\"))  # 각 브랜드가 등장한 횟수 계산\n",
    "    .orderBy(col(\"product_id\"), col(\"brand_count\").desc())  # 같은 product_id 내에서 count 기준 정렬\n",
    ")\n",
    "\n",
    "# 2️. product_id별 최빈 brand 선택\n",
    "window_spec = Window.partitionBy(\"product_id\").orderBy(col(\"brand_count\").desc())\n",
    "\n",
    "most_frequent_brands = (\n",
    "    brand_counts\n",
    "    .withColumn(\"rank\", row_number().over(window_spec))  # 가장 많이 등장한 브랜드 찾기\n",
    "    .filter(col(\"rank\") == 1)  # 최빈 브랜드만 선택\n",
    "    .drop(\"brand_count\", \"rank\")  # 불필요한 컬럼 제거\n",
    "    .withColumnRenamed(\"brand\", \"most_frequent_brand\")  # 컬럼 이름 변경하여 충돌 방지\n",
    ")\n",
    "\n",
    "# 3️. 기존 데이터와 조인 후, NULL 값 채우기\n",
    "parquet_filled_cc_br = (\n",
    "    parquet_filled_cc\n",
    "    .join(most_frequent_brands, on=\"product_id\", how=\"left\")  # product_id 기준으로 병합\n",
    "    .withColumn(\"brand\", coalesce(col(\"brand\"), col(\"most_frequent_brand\")))  # NULL 값 대체\n",
    "    .drop(\"most_frequent_brand\")  # 불필요한 컬럼 제거\n",
    ")\n",
    "\n",
    "# 4️⃣ 결과 확인\n",
    "parquet_filled_cc_br.show()\n"
   ]
  },
  {
   "cell_type": "code",
   "execution_count": 7,
   "metadata": {},
   "outputs": [
    {
     "name": "stdout",
     "output_type": "stream",
     "text": [
      "+----------+-----------+----------+----------+-------------+--------+-----+-------+------------+--------------+--------------+-----------+\n",
      "|product_id|category_id|event_time|event_type|category_code|   brand|price|user_id|user_session|event_time_ymd|event_time_hms|source_file|\n",
      "+----------+-----------+----------+----------+-------------+--------+-----+-------+------------+--------------+--------------+-----------+\n",
      "|         0|          0|         0|         0|     42378518|53236401|    0|      0|         226|             0|             0|          0|\n",
      "+----------+-----------+----------+----------+-------------+--------+-----+-------+------------+--------------+--------------+-----------+\n",
      "\n"
     ]
    }
   ],
   "source": [
    "null_counts = parquet_filled_cc_br.agg(\n",
    "    *[sum(col(c).isNull().cast(\"int\")).alias(c) for c in parquet_filled_cc_br.columns]\n",
    ")\n",
    "null_counts.show()"
   ]
  },
  {
   "cell_type": "code",
   "execution_count": 8,
   "metadata": {},
   "outputs": [
    {
     "data": {
      "text/plain": [
       "10.293299937896053"
      ]
     },
     "execution_count": 8,
     "metadata": {},
     "output_type": "execute_result"
    }
   ],
   "source": [
    "# 전체 데이터에서 category_code의 결측치 비율\n",
    "(42378518 / 411709736) * 100"
   ]
  },
  {
   "cell_type": "code",
   "execution_count": 8,
   "metadata": {},
   "outputs": [
    {
     "data": {
      "text/plain": [
       "12.930566451311707"
      ]
     },
     "execution_count": 8,
     "metadata": {},
     "output_type": "execute_result"
    }
   ],
   "source": [
    "# 전체 데이터에서 brand의 결측치 비율\n",
    "(53236401 / 411709736) * 100"
   ]
  },
  {
   "cell_type": "code",
   "execution_count": 14,
   "metadata": {},
   "outputs": [],
   "source": [
    "from pyspark.sql import Window\n",
    "from pyspark.sql.functions import count, col, row_number, coalesce\n",
    "\n",
    "def impute_by_mode_value(df, group_col, target_col):\n",
    "    \"\"\"\n",
    "    특정 그룹(group_col) 내에서 target_col의 최빈값을 찾아 NULL 값을 대체하는 함수.\n",
    "\n",
    "    :param df: 입력 Spark DataFrame\n",
    "    :param group_col: 그룹화할 컬럼명 (예: category_id)\n",
    "    :param target_col: 최빈값을 찾고 NULL을 채울 컬럼명 (예: category_code)\n",
    "    :return: NULL 값이 최빈값으로 채워진 DataFrame\n",
    "    \"\"\"\n",
    "\n",
    "    # 1️⃣ group_col별 target_col에서 최빈값 찾기 (count 먼저 계산)\n",
    "    value_counts = (\n",
    "        df.groupBy(group_col, target_col)\n",
    "        .agg(count(\"*\").alias(\"count\"))  # 등장 횟수 계산\n",
    "    )\n",
    "\n",
    "    # 2️⃣ 최빈값을 찾기 위한 Window 함수 설정\n",
    "    window_spec = Window.partitionBy(group_col).orderBy(col(\"count\").desc(), col(target_col))\n",
    "\n",
    "    most_frequent_values = (\n",
    "        value_counts\n",
    "        .withColumn(\"rank\", row_number().over(window_spec))  # 최빈값 순위 매기기\n",
    "        .filter(col(\"rank\") == 1)  # 최빈값 선택\n",
    "        .drop(\"count\", \"rank\")  # 불필요한 컬럼 삭제\n",
    "        .withColumnRenamed(target_col, f\"most_frequent_{target_col}\")  # 컬럼명 변경\n",
    "    )\n",
    "\n",
    "    # 3️⃣ 기존 데이터와 조인 후 NULL 값 채우기\n",
    "    df = (\n",
    "        df\n",
    "        .join(most_frequent_values, on=group_col, how=\"left\")  # group_col 기준으로 병합\n",
    "        .withColumn(target_col, coalesce(col(target_col), col(f\"most_frequent_{target_col}\")))  # NULL 값 대체\n",
    "        .drop(f\"most_frequent_{target_col}\")  # 불필요한 컬럼 삭제\n",
    "    )\n",
    "\n",
    "    return df\n"
   ]
  },
  {
   "cell_type": "code",
   "execution_count": 15,
   "metadata": {},
   "outputs": [],
   "source": [
    "cat_imputed_df = impute_by_mode_value(parquet_df, \"category_id\", \"category_code\")"
   ]
  },
  {
   "cell_type": "code",
   "execution_count": 16,
   "metadata": {},
   "outputs": [
    {
     "name": "stdout",
     "output_type": "stream",
     "text": [
      "+-----------+----------+----------+----------+-------------+--------+-----+-------+------------+--------------+--------------+-----------+\n",
      "|category_id|event_time|event_type|product_id|category_code|   brand|price|user_id|user_session|event_time_ymd|event_time_hms|source_file|\n",
      "+-----------+----------+----------+----------+-------------+--------+-----+-------+------------+--------------+--------------+-----------+\n",
      "|          0|         0|         0|         0|     62360907|55670767|    0|      0|         226|             0|             0|          0|\n",
      "+-----------+----------+----------+----------+-------------+--------+-----+-------+------------+--------------+--------------+-----------+\n",
      "\n"
     ]
    }
   ],
   "source": [
    "null_counts = cat_imputed_df.agg(\n",
    "    *[sum(col(c).isNull().cast(\"int\")).alias(c) for c in cat_imputed_df.columns]\n",
    ")\n",
    "null_counts.show()"
   ]
  },
  {
   "cell_type": "code",
   "execution_count": 19,
   "metadata": {},
   "outputs": [],
   "source": [
    "\n",
    "def impute_by_mode_value(df, group_col, count_col):\n",
    "    # 1️. group_col별 count_col 개수 세기\n",
    "    value_counts = (\n",
    "        df\n",
    "        .groupBy(group_col, count_col)  # group_col, count_col 기준으로 그룹화\n",
    "        .agg(count(\"*\").alias(\"count\"))  # 각 count_col가 등장한 횟수 계산\n",
    "        .orderBy(col(group_col), col(\"count\").desc())  # 같은 group_col 내에서 count 기준 정렬\n",
    "    )\n",
    "\n",
    "    # 2️. group_col별 최빈 count_col 선택\n",
    "    window_spec = Window.partitionBy(group_col).orderBy(col(\"count\").desc())\n",
    "\n",
    "    most_frequent_values = (\n",
    "        value_counts\n",
    "        .withColumn(\"rank\", row_number().over(window_spec))  # 가장 많이 등장한 count_col 찾기\n",
    "        .filter(col(\"rank\") == 1)  # 최빈 count_col만 선택\n",
    "        .drop(\"count\", \"rank\")  # 불필요한 컬럼 제거\n",
    "        .withColumnRenamed(count_col, f\"most_frequent_{count_col}\")  # 컬럼 이름 변경하여 충돌 방지\n",
    "    )\n",
    "\n",
    "    # 3️. 기존 데이터와 조인 후, NULL 값 채우기\n",
    "    df = (\n",
    "        df\n",
    "        .join(most_frequent_values, on=group_col, how=\"left\")  # group_col 기준으로 병합\n",
    "        .withColumn(count_col, coalesce(col(count_col), col(f\"most_frequent_{count_col}\")))  # NULL 값 대체\n",
    "        .drop(f\"most_frequent_{count_col}\")  # 불필요한 컬럼 제거\n",
    "    )\n",
    "\n",
    "    return df"
   ]
  },
  {
   "cell_type": "code",
   "execution_count": 20,
   "metadata": {},
   "outputs": [],
   "source": [
    "cat_imputed_df = impute_by_mode_value(parquet_df, \"category_id\", \"category_code\")\n"
   ]
  },
  {
   "cell_type": "code",
   "execution_count": 21,
   "metadata": {},
   "outputs": [
    {
     "name": "stdout",
     "output_type": "stream",
     "text": [
      "+-----------+----------+----------+----------+-------------+--------+-----+-------+------------+--------------+--------------+-----------+\n",
      "|category_id|event_time|event_type|product_id|category_code|   brand|price|user_id|user_session|event_time_ymd|event_time_hms|source_file|\n",
      "+-----------+----------+----------+----------+-------------+--------+-----+-------+------------+--------------+--------------+-----------+\n",
      "|          0|         0|         0|         0|     62360907|55670767|    0|      0|         226|             0|             0|          0|\n",
      "+-----------+----------+----------+----------+-------------+--------+-----+-------+------------+--------------+--------------+-----------+\n",
      "\n"
     ]
    }
   ],
   "source": [
    "null_counts = cat_imputed_df.agg(\n",
    "    *[sum(col(c).isNull().cast(\"int\")).alias(c) for c in cat_imputed_df.columns]\n",
    ")\n",
    "null_counts.show()"
   ]
  },
  {
   "cell_type": "code",
   "execution_count": 24,
   "metadata": {},
   "outputs": [],
   "source": [
    "from pyspark.sql import Window\n",
    "from pyspark.sql.functions import count, col, row_number, coalesce\n",
    "\n",
    "def impute_by_mode_value(df, group_col, target_col):\n",
    "    \"\"\"\n",
    "    특정 그룹(group_col) 내에서 target_col의 최빈값을 찾아 NULL 값을 대체하는 함수.\n",
    "\n",
    "    :param df: 입력 Spark DataFrame\n",
    "    :param group_col: 그룹화할 컬럼명 (예: category_id)\n",
    "    :param target_col: 최빈값을 찾고 NULL을 채울 컬럼명 (예: category_code)\n",
    "    :return: NULL 값이 최빈값으로 채워진 DataFrame\n",
    "    \"\"\"\n",
    "\n",
    "    # 1️⃣ group_col별 target_col에서 최빈값 찾기 (count 먼저 계산)\n",
    "    value_counts = (\n",
    "        df.groupBy(group_col, target_col)\n",
    "        .agg(count(\"*\").alias(\"count\"))  # 등장 횟수 계산\n",
    "    )\n",
    "\n",
    "    # 2️⃣ 최빈값을 찾기 위한 Window 함수 설정\n",
    "    window_spec = Window.partitionBy(group_col).orderBy(col(\"count\").desc(), col(target_col))\n",
    "\n",
    "    most_frequent_values = (\n",
    "        value_counts\n",
    "        .withColumn(\"rank\", row_number().over(window_spec))  # 최빈값 순위 매기기\n",
    "        .filter(col(\"rank\") == 1)  # 최빈값 선택\n",
    "        .select(col(group_col), col(target_col).alias(f\"most_frequent_{target_col}\"))  # alias() 수정\n",
    "    )\n",
    "\n",
    "    # 3️⃣ 기존 데이터와 조인 후 NULL 값 채우기\n",
    "    df = (\n",
    "        df\n",
    "        .join(most_frequent_values, on=group_col, how=\"left\")  # group_col 기준으로 병합\n",
    "        .withColumn(target_col, coalesce(col(target_col), col(f\"most_frequent_{target_col}\")))  # NULL 값 대체\n",
    "        .drop(f\"most_frequent_{target_col}\")  # 불필요한 컬럼 삭제\n",
    "    )\n",
    "\n",
    "    return df\n"
   ]
  },
  {
   "cell_type": "code",
   "execution_count": 25,
   "metadata": {},
   "outputs": [],
   "source": [
    "cat_imputed_df = impute_by_mode_value(parquet_df, \"category_id\", \"category_code\")\n"
   ]
  },
  {
   "cell_type": "code",
   "execution_count": 26,
   "metadata": {},
   "outputs": [
    {
     "name": "stdout",
     "output_type": "stream",
     "text": [
      "+-----------+----------+----------+----------+-------------+--------+-----+-------+------------+--------------+--------------+-----------+\n",
      "|category_id|event_time|event_type|product_id|category_code|   brand|price|user_id|user_session|event_time_ymd|event_time_hms|source_file|\n",
      "+-----------+----------+----------+----------+-------------+--------+-----+-------+------------+--------------+--------------+-----------+\n",
      "|          0|         0|         0|         0|     62360907|55670767|    0|      0|         226|             0|             0|          0|\n",
      "+-----------+----------+----------+----------+-------------+--------+-----+-------+------------+--------------+--------------+-----------+\n",
      "\n"
     ]
    }
   ],
   "source": [
    "null_counts = cat_imputed_df.agg(\n",
    "    *[sum(col(c).isNull().cast(\"int\")).alias(c) for c in cat_imputed_df.columns]\n",
    ")\n",
    "null_counts.show()"
   ]
  },
  {
   "cell_type": "code",
   "execution_count": 27,
   "metadata": {},
   "outputs": [],
   "source": [
    "cat_br_imputed_df = impute_by_mode_value(cat_imputed_df, \"product_id\", \"brand\")"
   ]
  },
  {
   "cell_type": "code",
   "execution_count": 28,
   "metadata": {},
   "outputs": [
    {
     "name": "stdout",
     "output_type": "stream",
     "text": [
      "+----------+-----------+----------+----------+-------------+--------+-----+-------+------------+--------------+--------------+-----------+\n",
      "|product_id|category_id|event_time|event_type|category_code|   brand|price|user_id|user_session|event_time_ymd|event_time_hms|source_file|\n",
      "+----------+-----------+----------+----------+-------------+--------+-----+-------+------------+--------------+--------------+-----------+\n",
      "|         0|          0|         0|         0|     62360907|53241940|    0|      0|         226|             0|             0|          0|\n",
      "+----------+-----------+----------+----------+-------------+--------+-----+-------+------------+--------------+--------------+-----------+\n",
      "\n"
     ]
    }
   ],
   "source": [
    "null_counts = cat_br_imputed_df.agg(\n",
    "    *[sum(col(c).isNull().cast(\"int\")).alias(c) for c in cat_br_imputed_df.columns]\n",
    ")\n",
    "null_counts.show()"
   ]
  },
  {
   "cell_type": "code",
   "execution_count": null,
   "metadata": {},
   "outputs": [],
   "source": []
  }
 ],
 "metadata": {
  "kernelspec": {
   "display_name": "de",
   "language": "python",
   "name": "python3"
  },
  "language_info": {
   "codemirror_mode": {
    "name": "ipython",
    "version": 3
   },
   "file_extension": ".py",
   "mimetype": "text/x-python",
   "name": "python",
   "nbconvert_exporter": "python",
   "pygments_lexer": "ipython3",
   "version": "3.11.0"
  }
 },
 "nbformat": 4,
 "nbformat_minor": 2
}
